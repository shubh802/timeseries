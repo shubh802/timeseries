{
 "cells": [
  {
   "cell_type": "markdown",
   "metadata": {},
   "source": [
    "### SARIMA"
   ]
  },
  {
   "cell_type": "code",
   "execution_count": 26,
   "metadata": {},
   "outputs": [],
   "source": [
    "import pandas as pd\n",
    "import numpy as np\n",
    "import matplotlib.pyplot as plt\n",
    "import plotly.express as px\n",
    "import plotly.graph_objects as go\n",
    "\n",
    "from sklearn.metrics import mean_squared_error\n",
    "from ipywidgets import IntProgress\n",
    "from tqdm import tqdm_notebook\n",
    "\n",
    "from itertools import product\n",
    "\n",
    "import warnings\n",
    "warnings.filterwarnings(\"ignore\")\n",
    "%matplotlib inline"
   ]
  },
  {
   "cell_type": "code",
   "execution_count": 2,
   "metadata": {},
   "outputs": [],
   "source": [
    "from statsmodels.graphics.tsaplots import plot_acf, plot_pacf\n",
    "from statsmodels.tsa.statespace.sarimax import SARIMAX\n",
    "from statsmodels.tsa.stattools import adfuller"
   ]
  },
  {
   "cell_type": "code",
   "execution_count": 4,
   "metadata": {},
   "outputs": [],
   "source": [
    "plt.rcParams['figure.figsize'] = [10,8]"
   ]
  },
  {
   "cell_type": "code",
   "execution_count": 5,
   "metadata": {},
   "outputs": [
    {
     "data": {
      "text/html": [
       "<div>\n",
       "<style scoped>\n",
       "    .dataframe tbody tr th:only-of-type {\n",
       "        vertical-align: middle;\n",
       "    }\n",
       "\n",
       "    .dataframe tbody tr th {\n",
       "        vertical-align: top;\n",
       "    }\n",
       "\n",
       "    .dataframe thead th {\n",
       "        text-align: right;\n",
       "    }\n",
       "</style>\n",
       "<table border=\"1\" class=\"dataframe\">\n",
       "  <thead>\n",
       "    <tr style=\"text-align: right;\">\n",
       "      <th></th>\n",
       "      <th>date</th>\n",
       "      <th>data</th>\n",
       "    </tr>\n",
       "  </thead>\n",
       "  <tbody>\n",
       "    <tr>\n",
       "      <th>0</th>\n",
       "      <td>1960-01-01</td>\n",
       "      <td>0.71</td>\n",
       "    </tr>\n",
       "    <tr>\n",
       "      <th>1</th>\n",
       "      <td>1960-04-01</td>\n",
       "      <td>0.63</td>\n",
       "    </tr>\n",
       "    <tr>\n",
       "      <th>2</th>\n",
       "      <td>1960-07-02</td>\n",
       "      <td>0.85</td>\n",
       "    </tr>\n",
       "    <tr>\n",
       "      <th>3</th>\n",
       "      <td>1960-10-01</td>\n",
       "      <td>0.44</td>\n",
       "    </tr>\n",
       "    <tr>\n",
       "      <th>4</th>\n",
       "      <td>1961-01-01</td>\n",
       "      <td>0.61</td>\n",
       "    </tr>\n",
       "  </tbody>\n",
       "</table>\n",
       "</div>"
      ],
      "text/plain": [
       "         date  data\n",
       "0  1960-01-01  0.71\n",
       "1  1960-04-01  0.63\n",
       "2  1960-07-02  0.85\n",
       "3  1960-10-01  0.44\n",
       "4  1961-01-01  0.61"
      ]
     },
     "execution_count": 5,
     "metadata": {},
     "output_type": "execute_result"
    }
   ],
   "source": [
    "df = pd.read_csv('./data/jj.csv')\n",
    "df.head()"
   ]
  },
  {
   "cell_type": "code",
   "execution_count": 6,
   "metadata": {},
   "outputs": [
    {
     "data": {
      "application/vnd.plotly.v1+json": {
       "config": {
        "plotlyServerURL": "https://plot.ly"
       },
       "data": [
        {
         "hovertemplate": "Year=%{x}<br>EPS($)=%{y}<extra></extra>",
         "legendgroup": "",
         "line": {
          "color": "#fcba03",
          "dash": "solid"
         },
         "marker": {
          "symbol": "circle"
         },
         "mode": "lines",
         "name": "",
         "orientation": "v",
         "showlegend": false,
         "type": "scatter",
         "x": [
          "1960-01-01",
          "1960-04-01",
          "1960-07-02",
          "1960-10-01",
          "1961-01-01",
          "1961-04-02",
          "1961-07-02",
          "1961-10-01",
          "1962-01-01",
          "1962-04-02",
          "1962-07-02",
          "1962-10-01",
          "1963-01-01",
          "1963-04-02",
          "1963-07-02",
          "1963-10-01",
          "1964-01-01",
          "1964-04-01",
          "1964-07-02",
          "1964-10-01",
          "1965-01-01",
          "1965-04-02",
          "1965-07-02",
          "1965-10-01",
          "1966-01-01",
          "1966-04-02",
          "1966-07-02",
          "1966-10-01",
          "1967-01-01",
          "1967-04-02",
          "1967-07-02",
          "1967-10-01",
          "1968-01-01",
          "1968-04-01",
          "1968-07-02",
          "1968-10-01",
          "1969-01-01",
          "1969-04-02",
          "1969-07-02",
          "1969-10-01",
          "1970-01-01",
          "1970-04-02",
          "1970-07-02",
          "1970-10-01",
          "1971-01-01",
          "1971-04-02",
          "1971-07-02",
          "1971-10-01",
          "1972-01-01",
          "1972-04-01",
          "1972-07-02",
          "1972-10-01",
          "1973-01-01",
          "1973-04-02",
          "1973-07-02",
          "1973-10-01",
          "1974-01-01",
          "1974-04-02",
          "1974-07-02",
          "1974-10-01",
          "1975-01-01",
          "1975-04-02",
          "1975-07-02",
          "1975-10-01",
          "1976-01-01",
          "1976-04-01",
          "1976-07-02",
          "1976-10-01",
          "1977-01-01",
          "1977-04-02",
          "1977-07-02",
          "1977-10-01",
          "1978-01-01",
          "1978-04-02",
          "1978-07-02",
          "1978-10-01",
          "1979-01-01",
          "1979-04-02",
          "1979-07-02",
          "1979-10-01",
          "1980-01-01",
          "1980-04-01",
          "1980-07-02",
          "1980-10-01"
         ],
         "xaxis": "x",
         "y": [
          0.71,
          0.63,
          0.85,
          0.44,
          0.61,
          0.69,
          0.92,
          0.55,
          0.72,
          0.77,
          0.92,
          0.6,
          0.83,
          0.8,
          1,
          0.77,
          0.92,
          1,
          1.24,
          1,
          1.16,
          1.3,
          1.45,
          1.25,
          1.26,
          1.38,
          1.86,
          1.56,
          1.53,
          1.59,
          1.83,
          1.86,
          1.53,
          2.07,
          2.34,
          2.25,
          2.16,
          2.43,
          2.7,
          2.25,
          2.79,
          3.42,
          3.69,
          3.6,
          3.6,
          4.32,
          4.32,
          4.05,
          4.86,
          5.04,
          5.04,
          4.41,
          5.58,
          5.85,
          6.57,
          5.31,
          6.03,
          6.39,
          6.93,
          5.85,
          6.93,
          7.74,
          7.83,
          6.12,
          7.74,
          8.91,
          8.28,
          6.84,
          9.54,
          10.26,
          9.54,
          8.729999,
          11.88,
          12.06,
          12.15,
          8.91,
          14.04,
          12.96,
          14.85,
          9.99,
          16.2,
          14.67,
          16.02,
          11.61
         ],
         "yaxis": "y"
        }
       ],
       "layout": {
        "height": 400,
        "legend": {
         "tracegroupgap": 0
        },
        "template": {
         "data": {
          "bar": [
           {
            "error_x": {
             "color": "#2a3f5f"
            },
            "error_y": {
             "color": "#2a3f5f"
            },
            "marker": {
             "line": {
              "color": "#E5ECF6",
              "width": 0.5
             },
             "pattern": {
              "fillmode": "overlay",
              "size": 10,
              "solidity": 0.2
             }
            },
            "type": "bar"
           }
          ],
          "barpolar": [
           {
            "marker": {
             "line": {
              "color": "#E5ECF6",
              "width": 0.5
             },
             "pattern": {
              "fillmode": "overlay",
              "size": 10,
              "solidity": 0.2
             }
            },
            "type": "barpolar"
           }
          ],
          "carpet": [
           {
            "aaxis": {
             "endlinecolor": "#2a3f5f",
             "gridcolor": "white",
             "linecolor": "white",
             "minorgridcolor": "white",
             "startlinecolor": "#2a3f5f"
            },
            "baxis": {
             "endlinecolor": "#2a3f5f",
             "gridcolor": "white",
             "linecolor": "white",
             "minorgridcolor": "white",
             "startlinecolor": "#2a3f5f"
            },
            "type": "carpet"
           }
          ],
          "choropleth": [
           {
            "colorbar": {
             "outlinewidth": 0,
             "ticks": ""
            },
            "type": "choropleth"
           }
          ],
          "contour": [
           {
            "colorbar": {
             "outlinewidth": 0,
             "ticks": ""
            },
            "colorscale": [
             [
              0,
              "#0d0887"
             ],
             [
              0.1111111111111111,
              "#46039f"
             ],
             [
              0.2222222222222222,
              "#7201a8"
             ],
             [
              0.3333333333333333,
              "#9c179e"
             ],
             [
              0.4444444444444444,
              "#bd3786"
             ],
             [
              0.5555555555555556,
              "#d8576b"
             ],
             [
              0.6666666666666666,
              "#ed7953"
             ],
             [
              0.7777777777777778,
              "#fb9f3a"
             ],
             [
              0.8888888888888888,
              "#fdca26"
             ],
             [
              1,
              "#f0f921"
             ]
            ],
            "type": "contour"
           }
          ],
          "contourcarpet": [
           {
            "colorbar": {
             "outlinewidth": 0,
             "ticks": ""
            },
            "type": "contourcarpet"
           }
          ],
          "heatmap": [
           {
            "colorbar": {
             "outlinewidth": 0,
             "ticks": ""
            },
            "colorscale": [
             [
              0,
              "#0d0887"
             ],
             [
              0.1111111111111111,
              "#46039f"
             ],
             [
              0.2222222222222222,
              "#7201a8"
             ],
             [
              0.3333333333333333,
              "#9c179e"
             ],
             [
              0.4444444444444444,
              "#bd3786"
             ],
             [
              0.5555555555555556,
              "#d8576b"
             ],
             [
              0.6666666666666666,
              "#ed7953"
             ],
             [
              0.7777777777777778,
              "#fb9f3a"
             ],
             [
              0.8888888888888888,
              "#fdca26"
             ],
             [
              1,
              "#f0f921"
             ]
            ],
            "type": "heatmap"
           }
          ],
          "heatmapgl": [
           {
            "colorbar": {
             "outlinewidth": 0,
             "ticks": ""
            },
            "colorscale": [
             [
              0,
              "#0d0887"
             ],
             [
              0.1111111111111111,
              "#46039f"
             ],
             [
              0.2222222222222222,
              "#7201a8"
             ],
             [
              0.3333333333333333,
              "#9c179e"
             ],
             [
              0.4444444444444444,
              "#bd3786"
             ],
             [
              0.5555555555555556,
              "#d8576b"
             ],
             [
              0.6666666666666666,
              "#ed7953"
             ],
             [
              0.7777777777777778,
              "#fb9f3a"
             ],
             [
              0.8888888888888888,
              "#fdca26"
             ],
             [
              1,
              "#f0f921"
             ]
            ],
            "type": "heatmapgl"
           }
          ],
          "histogram": [
           {
            "marker": {
             "pattern": {
              "fillmode": "overlay",
              "size": 10,
              "solidity": 0.2
             }
            },
            "type": "histogram"
           }
          ],
          "histogram2d": [
           {
            "colorbar": {
             "outlinewidth": 0,
             "ticks": ""
            },
            "colorscale": [
             [
              0,
              "#0d0887"
             ],
             [
              0.1111111111111111,
              "#46039f"
             ],
             [
              0.2222222222222222,
              "#7201a8"
             ],
             [
              0.3333333333333333,
              "#9c179e"
             ],
             [
              0.4444444444444444,
              "#bd3786"
             ],
             [
              0.5555555555555556,
              "#d8576b"
             ],
             [
              0.6666666666666666,
              "#ed7953"
             ],
             [
              0.7777777777777778,
              "#fb9f3a"
             ],
             [
              0.8888888888888888,
              "#fdca26"
             ],
             [
              1,
              "#f0f921"
             ]
            ],
            "type": "histogram2d"
           }
          ],
          "histogram2dcontour": [
           {
            "colorbar": {
             "outlinewidth": 0,
             "ticks": ""
            },
            "colorscale": [
             [
              0,
              "#0d0887"
             ],
             [
              0.1111111111111111,
              "#46039f"
             ],
             [
              0.2222222222222222,
              "#7201a8"
             ],
             [
              0.3333333333333333,
              "#9c179e"
             ],
             [
              0.4444444444444444,
              "#bd3786"
             ],
             [
              0.5555555555555556,
              "#d8576b"
             ],
             [
              0.6666666666666666,
              "#ed7953"
             ],
             [
              0.7777777777777778,
              "#fb9f3a"
             ],
             [
              0.8888888888888888,
              "#fdca26"
             ],
             [
              1,
              "#f0f921"
             ]
            ],
            "type": "histogram2dcontour"
           }
          ],
          "mesh3d": [
           {
            "colorbar": {
             "outlinewidth": 0,
             "ticks": ""
            },
            "type": "mesh3d"
           }
          ],
          "parcoords": [
           {
            "line": {
             "colorbar": {
              "outlinewidth": 0,
              "ticks": ""
             }
            },
            "type": "parcoords"
           }
          ],
          "pie": [
           {
            "automargin": true,
            "type": "pie"
           }
          ],
          "scatter": [
           {
            "fillpattern": {
             "fillmode": "overlay",
             "size": 10,
             "solidity": 0.2
            },
            "type": "scatter"
           }
          ],
          "scatter3d": [
           {
            "line": {
             "colorbar": {
              "outlinewidth": 0,
              "ticks": ""
             }
            },
            "marker": {
             "colorbar": {
              "outlinewidth": 0,
              "ticks": ""
             }
            },
            "type": "scatter3d"
           }
          ],
          "scattercarpet": [
           {
            "marker": {
             "colorbar": {
              "outlinewidth": 0,
              "ticks": ""
             }
            },
            "type": "scattercarpet"
           }
          ],
          "scattergeo": [
           {
            "marker": {
             "colorbar": {
              "outlinewidth": 0,
              "ticks": ""
             }
            },
            "type": "scattergeo"
           }
          ],
          "scattergl": [
           {
            "marker": {
             "colorbar": {
              "outlinewidth": 0,
              "ticks": ""
             }
            },
            "type": "scattergl"
           }
          ],
          "scattermapbox": [
           {
            "marker": {
             "colorbar": {
              "outlinewidth": 0,
              "ticks": ""
             }
            },
            "type": "scattermapbox"
           }
          ],
          "scatterpolar": [
           {
            "marker": {
             "colorbar": {
              "outlinewidth": 0,
              "ticks": ""
             }
            },
            "type": "scatterpolar"
           }
          ],
          "scatterpolargl": [
           {
            "marker": {
             "colorbar": {
              "outlinewidth": 0,
              "ticks": ""
             }
            },
            "type": "scatterpolargl"
           }
          ],
          "scatterternary": [
           {
            "marker": {
             "colorbar": {
              "outlinewidth": 0,
              "ticks": ""
             }
            },
            "type": "scatterternary"
           }
          ],
          "surface": [
           {
            "colorbar": {
             "outlinewidth": 0,
             "ticks": ""
            },
            "colorscale": [
             [
              0,
              "#0d0887"
             ],
             [
              0.1111111111111111,
              "#46039f"
             ],
             [
              0.2222222222222222,
              "#7201a8"
             ],
             [
              0.3333333333333333,
              "#9c179e"
             ],
             [
              0.4444444444444444,
              "#bd3786"
             ],
             [
              0.5555555555555556,
              "#d8576b"
             ],
             [
              0.6666666666666666,
              "#ed7953"
             ],
             [
              0.7777777777777778,
              "#fb9f3a"
             ],
             [
              0.8888888888888888,
              "#fdca26"
             ],
             [
              1,
              "#f0f921"
             ]
            ],
            "type": "surface"
           }
          ],
          "table": [
           {
            "cells": {
             "fill": {
              "color": "#EBF0F8"
             },
             "line": {
              "color": "white"
             }
            },
            "header": {
             "fill": {
              "color": "#C8D4E3"
             },
             "line": {
              "color": "white"
             }
            },
            "type": "table"
           }
          ]
         },
         "layout": {
          "annotationdefaults": {
           "arrowcolor": "#2a3f5f",
           "arrowhead": 0,
           "arrowwidth": 1
          },
          "autotypenumbers": "strict",
          "coloraxis": {
           "colorbar": {
            "outlinewidth": 0,
            "ticks": ""
           }
          },
          "colorscale": {
           "diverging": [
            [
             0,
             "#8e0152"
            ],
            [
             0.1,
             "#c51b7d"
            ],
            [
             0.2,
             "#de77ae"
            ],
            [
             0.3,
             "#f1b6da"
            ],
            [
             0.4,
             "#fde0ef"
            ],
            [
             0.5,
             "#f7f7f7"
            ],
            [
             0.6,
             "#e6f5d0"
            ],
            [
             0.7,
             "#b8e186"
            ],
            [
             0.8,
             "#7fbc41"
            ],
            [
             0.9,
             "#4d9221"
            ],
            [
             1,
             "#276419"
            ]
           ],
           "sequential": [
            [
             0,
             "#0d0887"
            ],
            [
             0.1111111111111111,
             "#46039f"
            ],
            [
             0.2222222222222222,
             "#7201a8"
            ],
            [
             0.3333333333333333,
             "#9c179e"
            ],
            [
             0.4444444444444444,
             "#bd3786"
            ],
            [
             0.5555555555555556,
             "#d8576b"
            ],
            [
             0.6666666666666666,
             "#ed7953"
            ],
            [
             0.7777777777777778,
             "#fb9f3a"
            ],
            [
             0.8888888888888888,
             "#fdca26"
            ],
            [
             1,
             "#f0f921"
            ]
           ],
           "sequentialminus": [
            [
             0,
             "#0d0887"
            ],
            [
             0.1111111111111111,
             "#46039f"
            ],
            [
             0.2222222222222222,
             "#7201a8"
            ],
            [
             0.3333333333333333,
             "#9c179e"
            ],
            [
             0.4444444444444444,
             "#bd3786"
            ],
            [
             0.5555555555555556,
             "#d8576b"
            ],
            [
             0.6666666666666666,
             "#ed7953"
            ],
            [
             0.7777777777777778,
             "#fb9f3a"
            ],
            [
             0.8888888888888888,
             "#fdca26"
            ],
            [
             1,
             "#f0f921"
            ]
           ]
          },
          "colorway": [
           "#636efa",
           "#EF553B",
           "#00cc96",
           "#ab63fa",
           "#FFA15A",
           "#19d3f3",
           "#FF6692",
           "#B6E880",
           "#FF97FF",
           "#FECB52"
          ],
          "font": {
           "color": "#2a3f5f"
          },
          "geo": {
           "bgcolor": "white",
           "lakecolor": "white",
           "landcolor": "#E5ECF6",
           "showlakes": true,
           "showland": true,
           "subunitcolor": "white"
          },
          "hoverlabel": {
           "align": "left"
          },
          "hovermode": "closest",
          "mapbox": {
           "style": "light"
          },
          "paper_bgcolor": "white",
          "plot_bgcolor": "#E5ECF6",
          "polar": {
           "angularaxis": {
            "gridcolor": "white",
            "linecolor": "white",
            "ticks": ""
           },
           "bgcolor": "#E5ECF6",
           "radialaxis": {
            "gridcolor": "white",
            "linecolor": "white",
            "ticks": ""
           }
          },
          "scene": {
           "xaxis": {
            "backgroundcolor": "#E5ECF6",
            "gridcolor": "white",
            "gridwidth": 2,
            "linecolor": "white",
            "showbackground": true,
            "ticks": "",
            "zerolinecolor": "white"
           },
           "yaxis": {
            "backgroundcolor": "#E5ECF6",
            "gridcolor": "white",
            "gridwidth": 2,
            "linecolor": "white",
            "showbackground": true,
            "ticks": "",
            "zerolinecolor": "white"
           },
           "zaxis": {
            "backgroundcolor": "#E5ECF6",
            "gridcolor": "white",
            "gridwidth": 2,
            "linecolor": "white",
            "showbackground": true,
            "ticks": "",
            "zerolinecolor": "white"
           }
          },
          "shapedefaults": {
           "line": {
            "color": "#2a3f5f"
           }
          },
          "ternary": {
           "aaxis": {
            "gridcolor": "white",
            "linecolor": "white",
            "ticks": ""
           },
           "baxis": {
            "gridcolor": "white",
            "linecolor": "white",
            "ticks": ""
           },
           "bgcolor": "#E5ECF6",
           "caxis": {
            "gridcolor": "white",
            "linecolor": "white",
            "ticks": ""
           }
          },
          "title": {
           "x": 0.05
          },
          "xaxis": {
           "automargin": true,
           "gridcolor": "white",
           "linecolor": "white",
           "ticks": "",
           "title": {
            "standoff": 15
           },
           "zerolinecolor": "white",
           "zerolinewidth": 2
          },
          "yaxis": {
           "automargin": true,
           "gridcolor": "white",
           "linecolor": "white",
           "ticks": "",
           "title": {
            "standoff": 15
           },
           "zerolinecolor": "white",
           "zerolinewidth": 2
          }
         }
        },
        "title": {
         "text": "Quaterly EPS for J&J"
        },
        "width": 800,
        "xaxis": {
         "anchor": "y",
         "domain": [
          0,
          1
         ],
         "title": {
          "text": "Year"
         }
        },
        "yaxis": {
         "anchor": "x",
         "domain": [
          0,
          1
         ],
         "title": {
          "text": "EPS($)"
         }
        }
       }
      }
     },
     "metadata": {},
     "output_type": "display_data"
    }
   ],
   "source": [
    "fig = px.line(df, x=df.date, y=df.data, width=800, height=400, color_discrete_sequence=['#fcba03'],\n",
    "                 title='Quaterly EPS for J&J', labels= {'date': 'Year','data':'EPS($)'})\n",
    "fig.show()"
   ]
  },
  {
   "cell_type": "code",
   "execution_count": 7,
   "metadata": {},
   "outputs": [
    {
     "data": {
      "text/html": [
       "<div>\n",
       "<style scoped>\n",
       "    .dataframe tbody tr th:only-of-type {\n",
       "        vertical-align: middle;\n",
       "    }\n",
       "\n",
       "    .dataframe tbody tr th {\n",
       "        vertical-align: top;\n",
       "    }\n",
       "\n",
       "    .dataframe thead th {\n",
       "        text-align: right;\n",
       "    }\n",
       "</style>\n",
       "<table border=\"1\" class=\"dataframe\">\n",
       "  <thead>\n",
       "    <tr style=\"text-align: right;\">\n",
       "      <th></th>\n",
       "      <th>date</th>\n",
       "      <th>data</th>\n",
       "      <th>data_tr_1</th>\n",
       "    </tr>\n",
       "  </thead>\n",
       "  <tbody>\n",
       "    <tr>\n",
       "      <th>0</th>\n",
       "      <td>1960-01-01</td>\n",
       "      <td>0.71</td>\n",
       "      <td>NaN</td>\n",
       "    </tr>\n",
       "    <tr>\n",
       "      <th>1</th>\n",
       "      <td>1960-04-01</td>\n",
       "      <td>0.63</td>\n",
       "      <td>-0.119545</td>\n",
       "    </tr>\n",
       "    <tr>\n",
       "      <th>2</th>\n",
       "      <td>1960-07-02</td>\n",
       "      <td>0.85</td>\n",
       "      <td>0.299517</td>\n",
       "    </tr>\n",
       "    <tr>\n",
       "      <th>3</th>\n",
       "      <td>1960-10-01</td>\n",
       "      <td>0.44</td>\n",
       "      <td>-0.658462</td>\n",
       "    </tr>\n",
       "    <tr>\n",
       "      <th>4</th>\n",
       "      <td>1961-01-01</td>\n",
       "      <td>0.61</td>\n",
       "      <td>0.326684</td>\n",
       "    </tr>\n",
       "  </tbody>\n",
       "</table>\n",
       "</div>"
      ],
      "text/plain": [
       "         date  data  data_tr_1\n",
       "0  1960-01-01  0.71        NaN\n",
       "1  1960-04-01  0.63  -0.119545\n",
       "2  1960-07-02  0.85   0.299517\n",
       "3  1960-10-01  0.44  -0.658462\n",
       "4  1961-01-01  0.61   0.326684"
      ]
     },
     "execution_count": 7,
     "metadata": {},
     "output_type": "execute_result"
    }
   ],
   "source": [
    "## Make data stationarity using Log difference\n",
    "df['data_tr_1'] = np.log(df['data'])\n",
    "df['data_tr_1'] = df['data_tr_1'].diff()\n",
    "\n",
    "df.head()"
   ]
  },
  {
   "cell_type": "code",
   "execution_count": 10,
   "metadata": {},
   "outputs": [
    {
     "data": {
      "application/vnd.plotly.v1+json": {
       "config": {
        "plotlyServerURL": "https://plot.ly"
       },
       "data": [
        {
         "hovertemplate": "x=%{x}<br>y=%{y}<extra></extra>",
         "legendgroup": "",
         "line": {
          "color": "#fcba03",
          "dash": "solid"
         },
         "marker": {
          "symbol": "circle"
         },
         "mode": "lines",
         "name": "",
         "orientation": "v",
         "showlegend": false,
         "type": "scatter",
         "x": [
          "1960-04-01",
          "1960-07-02",
          "1960-10-01",
          "1961-01-01",
          "1961-04-02",
          "1961-07-02",
          "1961-10-01",
          "1962-01-01",
          "1962-04-02",
          "1962-07-02",
          "1962-10-01",
          "1963-01-01",
          "1963-04-02",
          "1963-07-02",
          "1963-10-01",
          "1964-01-01",
          "1964-04-01",
          "1964-07-02",
          "1964-10-01",
          "1965-01-01",
          "1965-04-02",
          "1965-07-02",
          "1965-10-01",
          "1966-01-01",
          "1966-04-02",
          "1966-07-02",
          "1966-10-01",
          "1967-01-01",
          "1967-04-02",
          "1967-07-02",
          "1967-10-01",
          "1968-01-01",
          "1968-04-01",
          "1968-07-02",
          "1968-10-01",
          "1969-01-01",
          "1969-04-02",
          "1969-07-02",
          "1969-10-01",
          "1970-01-01",
          "1970-04-02",
          "1970-07-02",
          "1970-10-01",
          "1971-01-01",
          "1971-04-02",
          "1971-07-02",
          "1971-10-01",
          "1972-01-01",
          "1972-04-01",
          "1972-07-02",
          "1972-10-01",
          "1973-01-01",
          "1973-04-02",
          "1973-07-02",
          "1973-10-01",
          "1974-01-01",
          "1974-04-02",
          "1974-07-02",
          "1974-10-01",
          "1975-01-01",
          "1975-04-02",
          "1975-07-02",
          "1975-10-01",
          "1976-01-01",
          "1976-04-01",
          "1976-07-02",
          "1976-10-01",
          "1977-01-01",
          "1977-04-02",
          "1977-07-02",
          "1977-10-01",
          "1978-01-01",
          "1978-04-02",
          "1978-07-02",
          "1978-10-01",
          "1979-01-01",
          "1979-04-02",
          "1979-07-02",
          "1979-10-01",
          "1980-01-01",
          "1980-04-01",
          "1980-07-02",
          "1980-10-01"
         ],
         "xaxis": "x",
         "y": [
          -0.11954515064978266,
          0.29951653009878376,
          -0.6584616225720553,
          0.3266842302550501,
          0.12323264042394805,
          0.28768207245178107,
          -0.5144553918165694,
          0.2693329337835843,
          0.06713930283762859,
          0.1779831551953565,
          -0.4274440148269397,
          0.32449604557449724,
          -0.036813973122716226,
          0.2231435513142097,
          -0.2613647641344075,
          0.1779831551953565,
          0.08338160893905101,
          0.2151113796169455,
          -0.2151113796169455,
          0.14842000511827322,
          0.11394425934921784,
          0.10919929196499195,
          -0.14842000511827325,
          0.007968169649176876,
          0.09097177820572658,
          0.29849298855599676,
          -0.17589066646366425,
          -0.01941808585710164,
          0.03846628082779613,
          0.14058195062118933,
          0.016260520871780426,
          -0.1953087523207659,
          0.30228087187293357,
          0.12260232209233235,
          -0.03922071315328124,
          -0.040821994520255034,
          0.11778303565638337,
          0.10536051565782634,
          -0.18232155679395468,
          0.2151113796169455,
          0.2035989552412396,
          0.07598590697792185,
          -0.024692612590371477,
          0,
          0.18232155679395468,
          0,
          -0.06453852113757108,
          0.18232155679395468,
          0.03636764417087468,
          0,
          -0.13353139262452252,
          0.23531408693446498,
          0.04725288485054535,
          0.11607217125275415,
          -0.2129219972426717,
          0.12715517548524669,
          0.05798725765034929,
          0.08112554481236844,
          -0.16941815195804688,
          0.16941815195804688,
          0.1105418743998241,
          0.01156082240107592,
          -0.2464004134784772,
          0.23483959107740127,
          0.140772553881082,
          -0.07333127308554976,
          -0.1910552367627092,
          0.3327057538257361,
          0.0727593542824283,
          -0.0727593542824283,
          -0.088728230156228,
          0.30809105863053166,
          0.015037877364540542,
          0.0074349784875180625,
          -0.3101549283038394,
          0.45473615711494686,
          -0.08004270767353594,
          0.13613217432457958,
          -0.3964152725882464,
          0.48342664957787607,
          -0.09920665008344765,
          0.08803334948532271,
          -0.3219711459304131
         ],
         "yaxis": "y"
        }
       ],
       "layout": {
        "height": 400,
        "legend": {
         "tracegroupgap": 0
        },
        "template": {
         "data": {
          "bar": [
           {
            "error_x": {
             "color": "#2a3f5f"
            },
            "error_y": {
             "color": "#2a3f5f"
            },
            "marker": {
             "line": {
              "color": "#E5ECF6",
              "width": 0.5
             },
             "pattern": {
              "fillmode": "overlay",
              "size": 10,
              "solidity": 0.2
             }
            },
            "type": "bar"
           }
          ],
          "barpolar": [
           {
            "marker": {
             "line": {
              "color": "#E5ECF6",
              "width": 0.5
             },
             "pattern": {
              "fillmode": "overlay",
              "size": 10,
              "solidity": 0.2
             }
            },
            "type": "barpolar"
           }
          ],
          "carpet": [
           {
            "aaxis": {
             "endlinecolor": "#2a3f5f",
             "gridcolor": "white",
             "linecolor": "white",
             "minorgridcolor": "white",
             "startlinecolor": "#2a3f5f"
            },
            "baxis": {
             "endlinecolor": "#2a3f5f",
             "gridcolor": "white",
             "linecolor": "white",
             "minorgridcolor": "white",
             "startlinecolor": "#2a3f5f"
            },
            "type": "carpet"
           }
          ],
          "choropleth": [
           {
            "colorbar": {
             "outlinewidth": 0,
             "ticks": ""
            },
            "type": "choropleth"
           }
          ],
          "contour": [
           {
            "colorbar": {
             "outlinewidth": 0,
             "ticks": ""
            },
            "colorscale": [
             [
              0,
              "#0d0887"
             ],
             [
              0.1111111111111111,
              "#46039f"
             ],
             [
              0.2222222222222222,
              "#7201a8"
             ],
             [
              0.3333333333333333,
              "#9c179e"
             ],
             [
              0.4444444444444444,
              "#bd3786"
             ],
             [
              0.5555555555555556,
              "#d8576b"
             ],
             [
              0.6666666666666666,
              "#ed7953"
             ],
             [
              0.7777777777777778,
              "#fb9f3a"
             ],
             [
              0.8888888888888888,
              "#fdca26"
             ],
             [
              1,
              "#f0f921"
             ]
            ],
            "type": "contour"
           }
          ],
          "contourcarpet": [
           {
            "colorbar": {
             "outlinewidth": 0,
             "ticks": ""
            },
            "type": "contourcarpet"
           }
          ],
          "heatmap": [
           {
            "colorbar": {
             "outlinewidth": 0,
             "ticks": ""
            },
            "colorscale": [
             [
              0,
              "#0d0887"
             ],
             [
              0.1111111111111111,
              "#46039f"
             ],
             [
              0.2222222222222222,
              "#7201a8"
             ],
             [
              0.3333333333333333,
              "#9c179e"
             ],
             [
              0.4444444444444444,
              "#bd3786"
             ],
             [
              0.5555555555555556,
              "#d8576b"
             ],
             [
              0.6666666666666666,
              "#ed7953"
             ],
             [
              0.7777777777777778,
              "#fb9f3a"
             ],
             [
              0.8888888888888888,
              "#fdca26"
             ],
             [
              1,
              "#f0f921"
             ]
            ],
            "type": "heatmap"
           }
          ],
          "heatmapgl": [
           {
            "colorbar": {
             "outlinewidth": 0,
             "ticks": ""
            },
            "colorscale": [
             [
              0,
              "#0d0887"
             ],
             [
              0.1111111111111111,
              "#46039f"
             ],
             [
              0.2222222222222222,
              "#7201a8"
             ],
             [
              0.3333333333333333,
              "#9c179e"
             ],
             [
              0.4444444444444444,
              "#bd3786"
             ],
             [
              0.5555555555555556,
              "#d8576b"
             ],
             [
              0.6666666666666666,
              "#ed7953"
             ],
             [
              0.7777777777777778,
              "#fb9f3a"
             ],
             [
              0.8888888888888888,
              "#fdca26"
             ],
             [
              1,
              "#f0f921"
             ]
            ],
            "type": "heatmapgl"
           }
          ],
          "histogram": [
           {
            "marker": {
             "pattern": {
              "fillmode": "overlay",
              "size": 10,
              "solidity": 0.2
             }
            },
            "type": "histogram"
           }
          ],
          "histogram2d": [
           {
            "colorbar": {
             "outlinewidth": 0,
             "ticks": ""
            },
            "colorscale": [
             [
              0,
              "#0d0887"
             ],
             [
              0.1111111111111111,
              "#46039f"
             ],
             [
              0.2222222222222222,
              "#7201a8"
             ],
             [
              0.3333333333333333,
              "#9c179e"
             ],
             [
              0.4444444444444444,
              "#bd3786"
             ],
             [
              0.5555555555555556,
              "#d8576b"
             ],
             [
              0.6666666666666666,
              "#ed7953"
             ],
             [
              0.7777777777777778,
              "#fb9f3a"
             ],
             [
              0.8888888888888888,
              "#fdca26"
             ],
             [
              1,
              "#f0f921"
             ]
            ],
            "type": "histogram2d"
           }
          ],
          "histogram2dcontour": [
           {
            "colorbar": {
             "outlinewidth": 0,
             "ticks": ""
            },
            "colorscale": [
             [
              0,
              "#0d0887"
             ],
             [
              0.1111111111111111,
              "#46039f"
             ],
             [
              0.2222222222222222,
              "#7201a8"
             ],
             [
              0.3333333333333333,
              "#9c179e"
             ],
             [
              0.4444444444444444,
              "#bd3786"
             ],
             [
              0.5555555555555556,
              "#d8576b"
             ],
             [
              0.6666666666666666,
              "#ed7953"
             ],
             [
              0.7777777777777778,
              "#fb9f3a"
             ],
             [
              0.8888888888888888,
              "#fdca26"
             ],
             [
              1,
              "#f0f921"
             ]
            ],
            "type": "histogram2dcontour"
           }
          ],
          "mesh3d": [
           {
            "colorbar": {
             "outlinewidth": 0,
             "ticks": ""
            },
            "type": "mesh3d"
           }
          ],
          "parcoords": [
           {
            "line": {
             "colorbar": {
              "outlinewidth": 0,
              "ticks": ""
             }
            },
            "type": "parcoords"
           }
          ],
          "pie": [
           {
            "automargin": true,
            "type": "pie"
           }
          ],
          "scatter": [
           {
            "fillpattern": {
             "fillmode": "overlay",
             "size": 10,
             "solidity": 0.2
            },
            "type": "scatter"
           }
          ],
          "scatter3d": [
           {
            "line": {
             "colorbar": {
              "outlinewidth": 0,
              "ticks": ""
             }
            },
            "marker": {
             "colorbar": {
              "outlinewidth": 0,
              "ticks": ""
             }
            },
            "type": "scatter3d"
           }
          ],
          "scattercarpet": [
           {
            "marker": {
             "colorbar": {
              "outlinewidth": 0,
              "ticks": ""
             }
            },
            "type": "scattercarpet"
           }
          ],
          "scattergeo": [
           {
            "marker": {
             "colorbar": {
              "outlinewidth": 0,
              "ticks": ""
             }
            },
            "type": "scattergeo"
           }
          ],
          "scattergl": [
           {
            "marker": {
             "colorbar": {
              "outlinewidth": 0,
              "ticks": ""
             }
            },
            "type": "scattergl"
           }
          ],
          "scattermapbox": [
           {
            "marker": {
             "colorbar": {
              "outlinewidth": 0,
              "ticks": ""
             }
            },
            "type": "scattermapbox"
           }
          ],
          "scatterpolar": [
           {
            "marker": {
             "colorbar": {
              "outlinewidth": 0,
              "ticks": ""
             }
            },
            "type": "scatterpolar"
           }
          ],
          "scatterpolargl": [
           {
            "marker": {
             "colorbar": {
              "outlinewidth": 0,
              "ticks": ""
             }
            },
            "type": "scatterpolargl"
           }
          ],
          "scatterternary": [
           {
            "marker": {
             "colorbar": {
              "outlinewidth": 0,
              "ticks": ""
             }
            },
            "type": "scatterternary"
           }
          ],
          "surface": [
           {
            "colorbar": {
             "outlinewidth": 0,
             "ticks": ""
            },
            "colorscale": [
             [
              0,
              "#0d0887"
             ],
             [
              0.1111111111111111,
              "#46039f"
             ],
             [
              0.2222222222222222,
              "#7201a8"
             ],
             [
              0.3333333333333333,
              "#9c179e"
             ],
             [
              0.4444444444444444,
              "#bd3786"
             ],
             [
              0.5555555555555556,
              "#d8576b"
             ],
             [
              0.6666666666666666,
              "#ed7953"
             ],
             [
              0.7777777777777778,
              "#fb9f3a"
             ],
             [
              0.8888888888888888,
              "#fdca26"
             ],
             [
              1,
              "#f0f921"
             ]
            ],
            "type": "surface"
           }
          ],
          "table": [
           {
            "cells": {
             "fill": {
              "color": "#EBF0F8"
             },
             "line": {
              "color": "white"
             }
            },
            "header": {
             "fill": {
              "color": "#C8D4E3"
             },
             "line": {
              "color": "white"
             }
            },
            "type": "table"
           }
          ]
         },
         "layout": {
          "annotationdefaults": {
           "arrowcolor": "#2a3f5f",
           "arrowhead": 0,
           "arrowwidth": 1
          },
          "autotypenumbers": "strict",
          "coloraxis": {
           "colorbar": {
            "outlinewidth": 0,
            "ticks": ""
           }
          },
          "colorscale": {
           "diverging": [
            [
             0,
             "#8e0152"
            ],
            [
             0.1,
             "#c51b7d"
            ],
            [
             0.2,
             "#de77ae"
            ],
            [
             0.3,
             "#f1b6da"
            ],
            [
             0.4,
             "#fde0ef"
            ],
            [
             0.5,
             "#f7f7f7"
            ],
            [
             0.6,
             "#e6f5d0"
            ],
            [
             0.7,
             "#b8e186"
            ],
            [
             0.8,
             "#7fbc41"
            ],
            [
             0.9,
             "#4d9221"
            ],
            [
             1,
             "#276419"
            ]
           ],
           "sequential": [
            [
             0,
             "#0d0887"
            ],
            [
             0.1111111111111111,
             "#46039f"
            ],
            [
             0.2222222222222222,
             "#7201a8"
            ],
            [
             0.3333333333333333,
             "#9c179e"
            ],
            [
             0.4444444444444444,
             "#bd3786"
            ],
            [
             0.5555555555555556,
             "#d8576b"
            ],
            [
             0.6666666666666666,
             "#ed7953"
            ],
            [
             0.7777777777777778,
             "#fb9f3a"
            ],
            [
             0.8888888888888888,
             "#fdca26"
            ],
            [
             1,
             "#f0f921"
            ]
           ],
           "sequentialminus": [
            [
             0,
             "#0d0887"
            ],
            [
             0.1111111111111111,
             "#46039f"
            ],
            [
             0.2222222222222222,
             "#7201a8"
            ],
            [
             0.3333333333333333,
             "#9c179e"
            ],
            [
             0.4444444444444444,
             "#bd3786"
            ],
            [
             0.5555555555555556,
             "#d8576b"
            ],
            [
             0.6666666666666666,
             "#ed7953"
            ],
            [
             0.7777777777777778,
             "#fb9f3a"
            ],
            [
             0.8888888888888888,
             "#fdca26"
            ],
            [
             1,
             "#f0f921"
            ]
           ]
          },
          "colorway": [
           "#636efa",
           "#EF553B",
           "#00cc96",
           "#ab63fa",
           "#FFA15A",
           "#19d3f3",
           "#FF6692",
           "#B6E880",
           "#FF97FF",
           "#FECB52"
          ],
          "font": {
           "color": "#2a3f5f"
          },
          "geo": {
           "bgcolor": "white",
           "lakecolor": "white",
           "landcolor": "#E5ECF6",
           "showlakes": true,
           "showland": true,
           "subunitcolor": "white"
          },
          "hoverlabel": {
           "align": "left"
          },
          "hovermode": "closest",
          "mapbox": {
           "style": "light"
          },
          "paper_bgcolor": "white",
          "plot_bgcolor": "#E5ECF6",
          "polar": {
           "angularaxis": {
            "gridcolor": "white",
            "linecolor": "white",
            "ticks": ""
           },
           "bgcolor": "#E5ECF6",
           "radialaxis": {
            "gridcolor": "white",
            "linecolor": "white",
            "ticks": ""
           }
          },
          "scene": {
           "xaxis": {
            "backgroundcolor": "#E5ECF6",
            "gridcolor": "white",
            "gridwidth": 2,
            "linecolor": "white",
            "showbackground": true,
            "ticks": "",
            "zerolinecolor": "white"
           },
           "yaxis": {
            "backgroundcolor": "#E5ECF6",
            "gridcolor": "white",
            "gridwidth": 2,
            "linecolor": "white",
            "showbackground": true,
            "ticks": "",
            "zerolinecolor": "white"
           },
           "zaxis": {
            "backgroundcolor": "#E5ECF6",
            "gridcolor": "white",
            "gridwidth": 2,
            "linecolor": "white",
            "showbackground": true,
            "ticks": "",
            "zerolinecolor": "white"
           }
          },
          "shapedefaults": {
           "line": {
            "color": "#2a3f5f"
           }
          },
          "ternary": {
           "aaxis": {
            "gridcolor": "white",
            "linecolor": "white",
            "ticks": ""
           },
           "baxis": {
            "gridcolor": "white",
            "linecolor": "white",
            "ticks": ""
           },
           "bgcolor": "#E5ECF6",
           "caxis": {
            "gridcolor": "white",
            "linecolor": "white",
            "ticks": ""
           }
          },
          "title": {
           "x": 0.05
          },
          "xaxis": {
           "automargin": true,
           "gridcolor": "white",
           "linecolor": "white",
           "ticks": "",
           "title": {
            "standoff": 15
           },
           "zerolinecolor": "white",
           "zerolinewidth": 2
          },
          "yaxis": {
           "automargin": true,
           "gridcolor": "white",
           "linecolor": "white",
           "ticks": "",
           "title": {
            "standoff": 15
           },
           "zerolinecolor": "white",
           "zerolinewidth": 2
          }
         }
        },
        "title": {
         "text": "Log Difference of Quaterly EPS for J&J"
        },
        "width": 800,
        "xaxis": {
         "anchor": "y",
         "domain": [
          0,
          1
         ],
         "title": {
          "text": "x"
         }
        },
        "yaxis": {
         "anchor": "x",
         "domain": [
          0,
          1
         ],
         "title": {
          "text": "y"
         }
        }
       }
      }
     },
     "metadata": {},
     "output_type": "display_data"
    }
   ],
   "source": [
    "fig = px.line(df, x=df.date[1:], y=df.data_tr_1[1:], width=800, height=400, color_discrete_sequence=['#fcba03'],\n",
    "                 title='Log Difference of Quaterly EPS for J&J', labels= {'date': 'Year','data_tr_1':'EPS($)'})\n",
    "fig.show()"
   ]
  },
  {
   "cell_type": "markdown",
   "metadata": {},
   "source": [
    "To reduce the variation in variance we would take the seasonal difference"
   ]
  },
  {
   "cell_type": "code",
   "execution_count": 12,
   "metadata": {},
   "outputs": [
    {
     "data": {
      "text/html": [
       "<div>\n",
       "<style scoped>\n",
       "    .dataframe tbody tr th:only-of-type {\n",
       "        vertical-align: middle;\n",
       "    }\n",
       "\n",
       "    .dataframe tbody tr th {\n",
       "        vertical-align: top;\n",
       "    }\n",
       "\n",
       "    .dataframe thead th {\n",
       "        text-align: right;\n",
       "    }\n",
       "</style>\n",
       "<table border=\"1\" class=\"dataframe\">\n",
       "  <thead>\n",
       "    <tr style=\"text-align: right;\">\n",
       "      <th></th>\n",
       "      <th>date</th>\n",
       "      <th>data</th>\n",
       "      <th>data_tr_1</th>\n",
       "      <th>data_tr_2</th>\n",
       "    </tr>\n",
       "  </thead>\n",
       "  <tbody>\n",
       "    <tr>\n",
       "      <th>0</th>\n",
       "      <td>1960-01-01</td>\n",
       "      <td>0.71</td>\n",
       "      <td>NaN</td>\n",
       "      <td>NaN</td>\n",
       "    </tr>\n",
       "    <tr>\n",
       "      <th>1</th>\n",
       "      <td>1960-04-01</td>\n",
       "      <td>0.63</td>\n",
       "      <td>-0.119545</td>\n",
       "      <td>NaN</td>\n",
       "    </tr>\n",
       "    <tr>\n",
       "      <th>2</th>\n",
       "      <td>1960-07-02</td>\n",
       "      <td>0.85</td>\n",
       "      <td>0.299517</td>\n",
       "      <td>NaN</td>\n",
       "    </tr>\n",
       "    <tr>\n",
       "      <th>3</th>\n",
       "      <td>1960-10-01</td>\n",
       "      <td>0.44</td>\n",
       "      <td>-0.658462</td>\n",
       "      <td>NaN</td>\n",
       "    </tr>\n",
       "    <tr>\n",
       "      <th>4</th>\n",
       "      <td>1961-01-01</td>\n",
       "      <td>0.61</td>\n",
       "      <td>0.326684</td>\n",
       "      <td>NaN</td>\n",
       "    </tr>\n",
       "    <tr>\n",
       "      <th>5</th>\n",
       "      <td>1961-04-02</td>\n",
       "      <td>0.69</td>\n",
       "      <td>0.123233</td>\n",
       "      <td>0.242778</td>\n",
       "    </tr>\n",
       "    <tr>\n",
       "      <th>6</th>\n",
       "      <td>1961-07-02</td>\n",
       "      <td>0.92</td>\n",
       "      <td>0.287682</td>\n",
       "      <td>-0.011834</td>\n",
       "    </tr>\n",
       "    <tr>\n",
       "      <th>7</th>\n",
       "      <td>1961-10-01</td>\n",
       "      <td>0.55</td>\n",
       "      <td>-0.514455</td>\n",
       "      <td>0.144006</td>\n",
       "    </tr>\n",
       "    <tr>\n",
       "      <th>8</th>\n",
       "      <td>1962-01-01</td>\n",
       "      <td>0.72</td>\n",
       "      <td>0.269333</td>\n",
       "      <td>-0.057351</td>\n",
       "    </tr>\n",
       "    <tr>\n",
       "      <th>9</th>\n",
       "      <td>1962-04-02</td>\n",
       "      <td>0.77</td>\n",
       "      <td>0.067139</td>\n",
       "      <td>-0.056093</td>\n",
       "    </tr>\n",
       "  </tbody>\n",
       "</table>\n",
       "</div>"
      ],
      "text/plain": [
       "         date  data  data_tr_1  data_tr_2\n",
       "0  1960-01-01  0.71        NaN        NaN\n",
       "1  1960-04-01  0.63  -0.119545        NaN\n",
       "2  1960-07-02  0.85   0.299517        NaN\n",
       "3  1960-10-01  0.44  -0.658462        NaN\n",
       "4  1961-01-01  0.61   0.326684        NaN\n",
       "5  1961-04-02  0.69   0.123233   0.242778\n",
       "6  1961-07-02  0.92   0.287682  -0.011834\n",
       "7  1961-10-01  0.55  -0.514455   0.144006\n",
       "8  1962-01-01  0.72   0.269333  -0.057351\n",
       "9  1962-04-02  0.77   0.067139  -0.056093"
      ]
     },
     "execution_count": 12,
     "metadata": {},
     "output_type": "execute_result"
    }
   ],
   "source": [
    "# We see the difference in every quarter so the difference is 4, to apply the seasonality difference in the 4 quarters \n",
    "df['data_tr_2'] = df['data_tr_1'][1:].diff(4)\n",
    "df.head(10)"
   ]
  },
  {
   "cell_type": "code",
   "execution_count": 13,
   "metadata": {},
   "outputs": [
    {
     "data": {
      "application/vnd.plotly.v1+json": {
       "config": {
        "plotlyServerURL": "https://plot.ly"
       },
       "data": [
        {
         "hovertemplate": "x=%{x}<br>y=%{y}<extra></extra>",
         "legendgroup": "",
         "line": {
          "color": "#fcba03",
          "dash": "solid"
         },
         "marker": {
          "symbol": "circle"
         },
         "mode": "lines",
         "name": "",
         "orientation": "v",
         "showlegend": false,
         "type": "scatter",
         "x": [
          "1960-04-01",
          "1960-07-02",
          "1960-10-01",
          "1961-01-01",
          "1961-04-02",
          "1961-07-02",
          "1961-10-01",
          "1962-01-01",
          "1962-04-02",
          "1962-07-02",
          "1962-10-01",
          "1963-01-01",
          "1963-04-02",
          "1963-07-02",
          "1963-10-01",
          "1964-01-01",
          "1964-04-01",
          "1964-07-02",
          "1964-10-01",
          "1965-01-01",
          "1965-04-02",
          "1965-07-02",
          "1965-10-01",
          "1966-01-01",
          "1966-04-02",
          "1966-07-02",
          "1966-10-01",
          "1967-01-01",
          "1967-04-02",
          "1967-07-02",
          "1967-10-01",
          "1968-01-01",
          "1968-04-01",
          "1968-07-02",
          "1968-10-01",
          "1969-01-01",
          "1969-04-02",
          "1969-07-02",
          "1969-10-01",
          "1970-01-01",
          "1970-04-02",
          "1970-07-02",
          "1970-10-01",
          "1971-01-01",
          "1971-04-02",
          "1971-07-02",
          "1971-10-01",
          "1972-01-01",
          "1972-04-01",
          "1972-07-02",
          "1972-10-01",
          "1973-01-01",
          "1973-04-02",
          "1973-07-02",
          "1973-10-01",
          "1974-01-01",
          "1974-04-02",
          "1974-07-02",
          "1974-10-01",
          "1975-01-01",
          "1975-04-02",
          "1975-07-02",
          "1975-10-01",
          "1976-01-01",
          "1976-04-01",
          "1976-07-02",
          "1976-10-01",
          "1977-01-01",
          "1977-04-02",
          "1977-07-02",
          "1977-10-01",
          "1978-01-01",
          "1978-04-02",
          "1978-07-02",
          "1978-10-01",
          "1979-01-01",
          "1979-04-02",
          "1979-07-02",
          "1979-10-01",
          "1980-01-01",
          "1980-04-01",
          "1980-07-02",
          "1980-10-01"
         ],
         "xaxis": "x",
         "y": [
          null,
          null,
          null,
          null,
          0.2427777910737307,
          -0.011834457647002694,
          0.1440062307554859,
          -0.05735129647146581,
          -0.05609333758631946,
          -0.10969891725642456,
          0.08701137698962969,
          0.05516311179091293,
          -0.10395327596034482,
          0.0451603961188532,
          0.1660792506925322,
          -0.14651289037914073,
          0.12019558206176724,
          -0.008032171697264223,
          0.046253384517462026,
          -0.029563150077083294,
          0.030562650410166828,
          -0.10591208765195353,
          0.06669137449867224,
          -0.14045183546909634,
          -0.022972481143491263,
          0.1892936965910048,
          -0.027470661345391,
          -0.027386255506278517,
          -0.05250549737793045,
          -0.15791103793480743,
          0.19215118733544467,
          -0.17589066646366425,
          0.26381459104513744,
          -0.017979628528856983,
          -0.055481234025061665,
          0.15448675780051085,
          -0.1844978362165502,
          -0.017241806434506013,
          -0.14310084364067344,
          0.2559333741372005,
          0.08581591958485624,
          -0.02937460867990449,
          0.1576289442035832,
          -0.2151113796169455,
          -0.021277398447284934,
          -0.07598590697792185,
          -0.039845908547199604,
          0.18232155679395468,
          -0.14595391262308,
          0,
          -0.06899287148695143,
          0.05299253014051031,
          0.010885240679670671,
          0.11607217125275415,
          -0.07939060461814917,
          -0.1081589114492183,
          0.010734372799803937,
          -0.03494662644038571,
          0.04350384528462481,
          0.042262976472800196,
          0.052554616749474814,
          -0.06956472241129252,
          -0.0769822615204303,
          0.06542143911935439,
          0.030230679481257905,
          -0.08489209548662568,
          0.055345176715767996,
          0.09786616274833482,
          -0.0680131995986537,
          0.0005719188031214628,
          0.1023270066064812,
          -0.024614695195204428,
          -0.05772147691788776,
          0.08019433276994636,
          -0.2214266981476114,
          0.1466450984844152,
          -0.09508058503807648,
          0.12869719583706152,
          -0.08626034428440699,
          0.028690492462929207,
          -0.019163942409911705,
          -0.04809882483925687,
          0.07444412665783329
         ],
         "yaxis": "y"
        }
       ],
       "layout": {
        "height": 400,
        "legend": {
         "tracegroupgap": 0
        },
        "template": {
         "data": {
          "bar": [
           {
            "error_x": {
             "color": "#2a3f5f"
            },
            "error_y": {
             "color": "#2a3f5f"
            },
            "marker": {
             "line": {
              "color": "#E5ECF6",
              "width": 0.5
             },
             "pattern": {
              "fillmode": "overlay",
              "size": 10,
              "solidity": 0.2
             }
            },
            "type": "bar"
           }
          ],
          "barpolar": [
           {
            "marker": {
             "line": {
              "color": "#E5ECF6",
              "width": 0.5
             },
             "pattern": {
              "fillmode": "overlay",
              "size": 10,
              "solidity": 0.2
             }
            },
            "type": "barpolar"
           }
          ],
          "carpet": [
           {
            "aaxis": {
             "endlinecolor": "#2a3f5f",
             "gridcolor": "white",
             "linecolor": "white",
             "minorgridcolor": "white",
             "startlinecolor": "#2a3f5f"
            },
            "baxis": {
             "endlinecolor": "#2a3f5f",
             "gridcolor": "white",
             "linecolor": "white",
             "minorgridcolor": "white",
             "startlinecolor": "#2a3f5f"
            },
            "type": "carpet"
           }
          ],
          "choropleth": [
           {
            "colorbar": {
             "outlinewidth": 0,
             "ticks": ""
            },
            "type": "choropleth"
           }
          ],
          "contour": [
           {
            "colorbar": {
             "outlinewidth": 0,
             "ticks": ""
            },
            "colorscale": [
             [
              0,
              "#0d0887"
             ],
             [
              0.1111111111111111,
              "#46039f"
             ],
             [
              0.2222222222222222,
              "#7201a8"
             ],
             [
              0.3333333333333333,
              "#9c179e"
             ],
             [
              0.4444444444444444,
              "#bd3786"
             ],
             [
              0.5555555555555556,
              "#d8576b"
             ],
             [
              0.6666666666666666,
              "#ed7953"
             ],
             [
              0.7777777777777778,
              "#fb9f3a"
             ],
             [
              0.8888888888888888,
              "#fdca26"
             ],
             [
              1,
              "#f0f921"
             ]
            ],
            "type": "contour"
           }
          ],
          "contourcarpet": [
           {
            "colorbar": {
             "outlinewidth": 0,
             "ticks": ""
            },
            "type": "contourcarpet"
           }
          ],
          "heatmap": [
           {
            "colorbar": {
             "outlinewidth": 0,
             "ticks": ""
            },
            "colorscale": [
             [
              0,
              "#0d0887"
             ],
             [
              0.1111111111111111,
              "#46039f"
             ],
             [
              0.2222222222222222,
              "#7201a8"
             ],
             [
              0.3333333333333333,
              "#9c179e"
             ],
             [
              0.4444444444444444,
              "#bd3786"
             ],
             [
              0.5555555555555556,
              "#d8576b"
             ],
             [
              0.6666666666666666,
              "#ed7953"
             ],
             [
              0.7777777777777778,
              "#fb9f3a"
             ],
             [
              0.8888888888888888,
              "#fdca26"
             ],
             [
              1,
              "#f0f921"
             ]
            ],
            "type": "heatmap"
           }
          ],
          "heatmapgl": [
           {
            "colorbar": {
             "outlinewidth": 0,
             "ticks": ""
            },
            "colorscale": [
             [
              0,
              "#0d0887"
             ],
             [
              0.1111111111111111,
              "#46039f"
             ],
             [
              0.2222222222222222,
              "#7201a8"
             ],
             [
              0.3333333333333333,
              "#9c179e"
             ],
             [
              0.4444444444444444,
              "#bd3786"
             ],
             [
              0.5555555555555556,
              "#d8576b"
             ],
             [
              0.6666666666666666,
              "#ed7953"
             ],
             [
              0.7777777777777778,
              "#fb9f3a"
             ],
             [
              0.8888888888888888,
              "#fdca26"
             ],
             [
              1,
              "#f0f921"
             ]
            ],
            "type": "heatmapgl"
           }
          ],
          "histogram": [
           {
            "marker": {
             "pattern": {
              "fillmode": "overlay",
              "size": 10,
              "solidity": 0.2
             }
            },
            "type": "histogram"
           }
          ],
          "histogram2d": [
           {
            "colorbar": {
             "outlinewidth": 0,
             "ticks": ""
            },
            "colorscale": [
             [
              0,
              "#0d0887"
             ],
             [
              0.1111111111111111,
              "#46039f"
             ],
             [
              0.2222222222222222,
              "#7201a8"
             ],
             [
              0.3333333333333333,
              "#9c179e"
             ],
             [
              0.4444444444444444,
              "#bd3786"
             ],
             [
              0.5555555555555556,
              "#d8576b"
             ],
             [
              0.6666666666666666,
              "#ed7953"
             ],
             [
              0.7777777777777778,
              "#fb9f3a"
             ],
             [
              0.8888888888888888,
              "#fdca26"
             ],
             [
              1,
              "#f0f921"
             ]
            ],
            "type": "histogram2d"
           }
          ],
          "histogram2dcontour": [
           {
            "colorbar": {
             "outlinewidth": 0,
             "ticks": ""
            },
            "colorscale": [
             [
              0,
              "#0d0887"
             ],
             [
              0.1111111111111111,
              "#46039f"
             ],
             [
              0.2222222222222222,
              "#7201a8"
             ],
             [
              0.3333333333333333,
              "#9c179e"
             ],
             [
              0.4444444444444444,
              "#bd3786"
             ],
             [
              0.5555555555555556,
              "#d8576b"
             ],
             [
              0.6666666666666666,
              "#ed7953"
             ],
             [
              0.7777777777777778,
              "#fb9f3a"
             ],
             [
              0.8888888888888888,
              "#fdca26"
             ],
             [
              1,
              "#f0f921"
             ]
            ],
            "type": "histogram2dcontour"
           }
          ],
          "mesh3d": [
           {
            "colorbar": {
             "outlinewidth": 0,
             "ticks": ""
            },
            "type": "mesh3d"
           }
          ],
          "parcoords": [
           {
            "line": {
             "colorbar": {
              "outlinewidth": 0,
              "ticks": ""
             }
            },
            "type": "parcoords"
           }
          ],
          "pie": [
           {
            "automargin": true,
            "type": "pie"
           }
          ],
          "scatter": [
           {
            "fillpattern": {
             "fillmode": "overlay",
             "size": 10,
             "solidity": 0.2
            },
            "type": "scatter"
           }
          ],
          "scatter3d": [
           {
            "line": {
             "colorbar": {
              "outlinewidth": 0,
              "ticks": ""
             }
            },
            "marker": {
             "colorbar": {
              "outlinewidth": 0,
              "ticks": ""
             }
            },
            "type": "scatter3d"
           }
          ],
          "scattercarpet": [
           {
            "marker": {
             "colorbar": {
              "outlinewidth": 0,
              "ticks": ""
             }
            },
            "type": "scattercarpet"
           }
          ],
          "scattergeo": [
           {
            "marker": {
             "colorbar": {
              "outlinewidth": 0,
              "ticks": ""
             }
            },
            "type": "scattergeo"
           }
          ],
          "scattergl": [
           {
            "marker": {
             "colorbar": {
              "outlinewidth": 0,
              "ticks": ""
             }
            },
            "type": "scattergl"
           }
          ],
          "scattermapbox": [
           {
            "marker": {
             "colorbar": {
              "outlinewidth": 0,
              "ticks": ""
             }
            },
            "type": "scattermapbox"
           }
          ],
          "scatterpolar": [
           {
            "marker": {
             "colorbar": {
              "outlinewidth": 0,
              "ticks": ""
             }
            },
            "type": "scatterpolar"
           }
          ],
          "scatterpolargl": [
           {
            "marker": {
             "colorbar": {
              "outlinewidth": 0,
              "ticks": ""
             }
            },
            "type": "scatterpolargl"
           }
          ],
          "scatterternary": [
           {
            "marker": {
             "colorbar": {
              "outlinewidth": 0,
              "ticks": ""
             }
            },
            "type": "scatterternary"
           }
          ],
          "surface": [
           {
            "colorbar": {
             "outlinewidth": 0,
             "ticks": ""
            },
            "colorscale": [
             [
              0,
              "#0d0887"
             ],
             [
              0.1111111111111111,
              "#46039f"
             ],
             [
              0.2222222222222222,
              "#7201a8"
             ],
             [
              0.3333333333333333,
              "#9c179e"
             ],
             [
              0.4444444444444444,
              "#bd3786"
             ],
             [
              0.5555555555555556,
              "#d8576b"
             ],
             [
              0.6666666666666666,
              "#ed7953"
             ],
             [
              0.7777777777777778,
              "#fb9f3a"
             ],
             [
              0.8888888888888888,
              "#fdca26"
             ],
             [
              1,
              "#f0f921"
             ]
            ],
            "type": "surface"
           }
          ],
          "table": [
           {
            "cells": {
             "fill": {
              "color": "#EBF0F8"
             },
             "line": {
              "color": "white"
             }
            },
            "header": {
             "fill": {
              "color": "#C8D4E3"
             },
             "line": {
              "color": "white"
             }
            },
            "type": "table"
           }
          ]
         },
         "layout": {
          "annotationdefaults": {
           "arrowcolor": "#2a3f5f",
           "arrowhead": 0,
           "arrowwidth": 1
          },
          "autotypenumbers": "strict",
          "coloraxis": {
           "colorbar": {
            "outlinewidth": 0,
            "ticks": ""
           }
          },
          "colorscale": {
           "diverging": [
            [
             0,
             "#8e0152"
            ],
            [
             0.1,
             "#c51b7d"
            ],
            [
             0.2,
             "#de77ae"
            ],
            [
             0.3,
             "#f1b6da"
            ],
            [
             0.4,
             "#fde0ef"
            ],
            [
             0.5,
             "#f7f7f7"
            ],
            [
             0.6,
             "#e6f5d0"
            ],
            [
             0.7,
             "#b8e186"
            ],
            [
             0.8,
             "#7fbc41"
            ],
            [
             0.9,
             "#4d9221"
            ],
            [
             1,
             "#276419"
            ]
           ],
           "sequential": [
            [
             0,
             "#0d0887"
            ],
            [
             0.1111111111111111,
             "#46039f"
            ],
            [
             0.2222222222222222,
             "#7201a8"
            ],
            [
             0.3333333333333333,
             "#9c179e"
            ],
            [
             0.4444444444444444,
             "#bd3786"
            ],
            [
             0.5555555555555556,
             "#d8576b"
            ],
            [
             0.6666666666666666,
             "#ed7953"
            ],
            [
             0.7777777777777778,
             "#fb9f3a"
            ],
            [
             0.8888888888888888,
             "#fdca26"
            ],
            [
             1,
             "#f0f921"
            ]
           ],
           "sequentialminus": [
            [
             0,
             "#0d0887"
            ],
            [
             0.1111111111111111,
             "#46039f"
            ],
            [
             0.2222222222222222,
             "#7201a8"
            ],
            [
             0.3333333333333333,
             "#9c179e"
            ],
            [
             0.4444444444444444,
             "#bd3786"
            ],
            [
             0.5555555555555556,
             "#d8576b"
            ],
            [
             0.6666666666666666,
             "#ed7953"
            ],
            [
             0.7777777777777778,
             "#fb9f3a"
            ],
            [
             0.8888888888888888,
             "#fdca26"
            ],
            [
             1,
             "#f0f921"
            ]
           ]
          },
          "colorway": [
           "#636efa",
           "#EF553B",
           "#00cc96",
           "#ab63fa",
           "#FFA15A",
           "#19d3f3",
           "#FF6692",
           "#B6E880",
           "#FF97FF",
           "#FECB52"
          ],
          "font": {
           "color": "#2a3f5f"
          },
          "geo": {
           "bgcolor": "white",
           "lakecolor": "white",
           "landcolor": "#E5ECF6",
           "showlakes": true,
           "showland": true,
           "subunitcolor": "white"
          },
          "hoverlabel": {
           "align": "left"
          },
          "hovermode": "closest",
          "mapbox": {
           "style": "light"
          },
          "paper_bgcolor": "white",
          "plot_bgcolor": "#E5ECF6",
          "polar": {
           "angularaxis": {
            "gridcolor": "white",
            "linecolor": "white",
            "ticks": ""
           },
           "bgcolor": "#E5ECF6",
           "radialaxis": {
            "gridcolor": "white",
            "linecolor": "white",
            "ticks": ""
           }
          },
          "scene": {
           "xaxis": {
            "backgroundcolor": "#E5ECF6",
            "gridcolor": "white",
            "gridwidth": 2,
            "linecolor": "white",
            "showbackground": true,
            "ticks": "",
            "zerolinecolor": "white"
           },
           "yaxis": {
            "backgroundcolor": "#E5ECF6",
            "gridcolor": "white",
            "gridwidth": 2,
            "linecolor": "white",
            "showbackground": true,
            "ticks": "",
            "zerolinecolor": "white"
           },
           "zaxis": {
            "backgroundcolor": "#E5ECF6",
            "gridcolor": "white",
            "gridwidth": 2,
            "linecolor": "white",
            "showbackground": true,
            "ticks": "",
            "zerolinecolor": "white"
           }
          },
          "shapedefaults": {
           "line": {
            "color": "#2a3f5f"
           }
          },
          "ternary": {
           "aaxis": {
            "gridcolor": "white",
            "linecolor": "white",
            "ticks": ""
           },
           "baxis": {
            "gridcolor": "white",
            "linecolor": "white",
            "ticks": ""
           },
           "bgcolor": "#E5ECF6",
           "caxis": {
            "gridcolor": "white",
            "linecolor": "white",
            "ticks": ""
           }
          },
          "title": {
           "x": 0.05
          },
          "xaxis": {
           "automargin": true,
           "gridcolor": "white",
           "linecolor": "white",
           "ticks": "",
           "title": {
            "standoff": 15
           },
           "zerolinecolor": "white",
           "zerolinewidth": 2
          },
          "yaxis": {
           "automargin": true,
           "gridcolor": "white",
           "linecolor": "white",
           "ticks": "",
           "title": {
            "standoff": 15
           },
           "zerolinecolor": "white",
           "zerolinewidth": 2
          }
         }
        },
        "title": {
         "text": "Log Difference of Quaterly EPS for J&J(Seasonal Difference)"
        },
        "width": 800,
        "xaxis": {
         "anchor": "y",
         "domain": [
          0,
          1
         ],
         "title": {
          "text": "x"
         }
        },
        "yaxis": {
         "anchor": "x",
         "domain": [
          0,
          1
         ],
         "title": {
          "text": "y"
         }
        }
       }
      }
     },
     "metadata": {},
     "output_type": "display_data"
    }
   ],
   "source": [
    "fig = px.line(df, x=df.date[1:], y=df.data_tr_2[1:], width=800, height=400, color_discrete_sequence=['#fcba03'],\n",
    "                 title='Log Difference of Quaterly EPS for J&J(Seasonal Difference)', labels= {'date': 'Year','data_tr_1':'EPS($)'})\n",
    "fig.show()"
   ]
  },
  {
   "cell_type": "markdown",
   "metadata": {},
   "source": [
    "We could see the variance which is much more stable over the entire dataset"
   ]
  },
  {
   "cell_type": "code",
   "execution_count": 14,
   "metadata": {},
   "outputs": [
    {
     "name": "stdout",
     "output_type": "stream",
     "text": [
      "ADF Statistics: -6.63080510991426\n",
      "p-value: 5.721578695136251e-09\n"
     ]
    }
   ],
   "source": [
    "# Check the stationarity\n",
    "\n",
    "ad_fuller_result = adfuller(df['data_tr_2'][5:])\n",
    "print(f\"ADF Statistics: {ad_fuller_result[0]}\")\n",
    "print(f\"p-value: {ad_fuller_result[1]}\")"
   ]
  },
  {
   "cell_type": "code",
   "execution_count": 15,
   "metadata": {},
   "outputs": [
    {
     "data": {
      "image/png": "[encoded data removed]",
      "text/plain": [
       "<Figure size 720x576 with 1 Axes>"
      ]
     },
     "metadata": {
      "needs_background": "light"
     },
     "output_type": "display_data"
    },
    {
     "data": {
      "image/png": "[encoded data removed]",
      "text/plain": [
       "<Figure size 720x576 with 1 Axes>"
      ]
     },
     "metadata": {
      "needs_background": "light"
     },
     "output_type": "display_data"
    }
   ],
   "source": [
    "plot_acf(df['data_tr_2'][5:])\n",
    "plot_pacf(df['data_tr_2'][5:])\n",
    "plt.show()"
   ]
  },
  {
   "cell_type": "markdown",
   "metadata": {},
   "source": [
    "+ P - Seasonal Autoregressive\n",
    "+ Q - Seasonal moving average"
   ]
  },
  {
   "cell_type": "code",
   "execution_count": 16,
   "metadata": {},
   "outputs": [],
   "source": [
    "def optimize_SARIMA(endog, parameter_list, d, D, s):\n",
    "    \"\"\" Returns DF with parameters and corresponding AIC\n",
    "\n",
    "        endog - the observed varaibles\n",
    "        parameters_list - list with (p, q, P, Q) tuples\n",
    "        d - Integration order\n",
    "        D - Seasonal Integration order\n",
    "        s - length of a season\n",
    "\n",
    "    \"\"\"\n",
    "\n",
    "    results = []\n",
    "\n",
    "    for param in tqdm_notebook(parameter_list):\n",
    "        try:\n",
    "            model = SARIMAX(endog,\n",
    "                            order=(param[0], d, param[1]),\n",
    "                            seasonal_order=(param[2], D, param[3], s),\n",
    "                            simple_differencing=False).fit(disp=False)\n",
    "        except:\n",
    "            continue\n",
    "\n",
    "        aic = model.aic\n",
    "        results.append((param, aic))\n",
    "\n",
    "    results_df = pd.DataFrame(results, columns=['parameters', 'aic'])\n",
    "    results_df.columns = ['(p,q) x (P,Q)', 'AIC']\n",
    "    results_df = results_df.sort_values('AIC', ascending=True).reset_index(drop=True)\n",
    "\n",
    "    return results_df\n"
   ]
  },
  {
   "cell_type": "code",
   "execution_count": 17,
   "metadata": {},
   "outputs": [
    {
     "name": "stdout",
     "output_type": "stream",
     "text": [
      "256\n",
      "[(0, 0, 0, 0), (0, 0, 0, 1), (0, 0, 0, 2), (0, 0, 0, 3), (0, 0, 1, 0)]\n"
     ]
    }
   ],
   "source": [
    "p = range(0,4,1)\n",
    "d =1\n",
    "q = range(0,4,1)\n",
    "P = range(0,4,1)\n",
    "D = 1\n",
    "Q = range(0,4,1)\n",
    "s = 1\n",
    "\n",
    "parameters = product(p, q, P, Q)\n",
    "parameters_list = list(parameters)\n",
    "\n",
    "print(len(parameters_list))\n",
    "print(parameters_list[:5])"
   ]
  },
  {
   "cell_type": "code",
   "execution_count": 18,
   "metadata": {},
   "outputs": [
    {
     "data": {
      "application/vnd.jupyter.widget-view+json": {
       "model_id": "f82139af686e421ea913ab3e06f66b06",
       "version_major": 2,
       "version_minor": 0
      },
      "text/plain": [
       "  0%|          | 0/256 [00:00<?, ?it/s]"
      ]
     },
     "metadata": {},
     "output_type": "display_data"
    },
    {
     "name": "stderr",
     "output_type": "stream",
     "text": [
      "c:\\Users\\joshi\\anaconda3\\envs\\timeseries\\lib\\site-packages\\statsmodels\\base\\model.py:604: ConvergenceWarning:\n",
      "\n",
      "Maximum Likelihood optimization failed to converge. Check mle_retvals\n",
      "\n",
      "c:\\Users\\joshi\\anaconda3\\envs\\timeseries\\lib\\site-packages\\statsmodels\\base\\model.py:604: ConvergenceWarning:\n",
      "\n",
      "Maximum Likelihood optimization failed to converge. Check mle_retvals\n",
      "\n",
      "c:\\Users\\joshi\\anaconda3\\envs\\timeseries\\lib\\site-packages\\statsmodels\\base\\model.py:604: ConvergenceWarning:\n",
      "\n",
      "Maximum Likelihood optimization failed to converge. Check mle_retvals\n",
      "\n",
      "c:\\Users\\joshi\\anaconda3\\envs\\timeseries\\lib\\site-packages\\statsmodels\\base\\model.py:604: ConvergenceWarning:\n",
      "\n",
      "Maximum Likelihood optimization failed to converge. Check mle_retvals\n",
      "\n",
      "c:\\Users\\joshi\\anaconda3\\envs\\timeseries\\lib\\site-packages\\statsmodels\\base\\model.py:604: ConvergenceWarning:\n",
      "\n",
      "Maximum Likelihood optimization failed to converge. Check mle_retvals\n",
      "\n",
      "c:\\Users\\joshi\\anaconda3\\envs\\timeseries\\lib\\site-packages\\statsmodels\\base\\model.py:604: ConvergenceWarning:\n",
      "\n",
      "Maximum Likelihood optimization failed to converge. Check mle_retvals\n",
      "\n",
      "c:\\Users\\joshi\\anaconda3\\envs\\timeseries\\lib\\site-packages\\statsmodels\\base\\model.py:604: ConvergenceWarning:\n",
      "\n",
      "Maximum Likelihood optimization failed to converge. Check mle_retvals\n",
      "\n",
      "c:\\Users\\joshi\\anaconda3\\envs\\timeseries\\lib\\site-packages\\statsmodels\\base\\model.py:604: ConvergenceWarning:\n",
      "\n",
      "Maximum Likelihood optimization failed to converge. Check mle_retvals\n",
      "\n",
      "c:\\Users\\joshi\\anaconda3\\envs\\timeseries\\lib\\site-packages\\statsmodels\\base\\model.py:604: ConvergenceWarning:\n",
      "\n",
      "Maximum Likelihood optimization failed to converge. Check mle_retvals\n",
      "\n",
      "c:\\Users\\joshi\\anaconda3\\envs\\timeseries\\lib\\site-packages\\statsmodels\\base\\model.py:604: ConvergenceWarning:\n",
      "\n",
      "Maximum Likelihood optimization failed to converge. Check mle_retvals\n",
      "\n",
      "c:\\Users\\joshi\\anaconda3\\envs\\timeseries\\lib\\site-packages\\statsmodels\\base\\model.py:604: ConvergenceWarning:\n",
      "\n",
      "Maximum Likelihood optimization failed to converge. Check mle_retvals\n",
      "\n",
      "c:\\Users\\joshi\\anaconda3\\envs\\timeseries\\lib\\site-packages\\statsmodels\\base\\model.py:604: ConvergenceWarning:\n",
      "\n",
      "Maximum Likelihood optimization failed to converge. Check mle_retvals\n",
      "\n",
      "c:\\Users\\joshi\\anaconda3\\envs\\timeseries\\lib\\site-packages\\statsmodels\\base\\model.py:604: ConvergenceWarning:\n",
      "\n",
      "Maximum Likelihood optimization failed to converge. Check mle_retvals\n",
      "\n",
      "c:\\Users\\joshi\\anaconda3\\envs\\timeseries\\lib\\site-packages\\statsmodels\\base\\model.py:604: ConvergenceWarning:\n",
      "\n",
      "Maximum Likelihood optimization failed to converge. Check mle_retvals\n",
      "\n",
      "c:\\Users\\joshi\\anaconda3\\envs\\timeseries\\lib\\site-packages\\statsmodels\\base\\model.py:604: ConvergenceWarning:\n",
      "\n",
      "Maximum Likelihood optimization failed to converge. Check mle_retvals\n",
      "\n",
      "c:\\Users\\joshi\\anaconda3\\envs\\timeseries\\lib\\site-packages\\statsmodels\\base\\model.py:604: ConvergenceWarning:\n",
      "\n",
      "Maximum Likelihood optimization failed to converge. Check mle_retvals\n",
      "\n",
      "c:\\Users\\joshi\\anaconda3\\envs\\timeseries\\lib\\site-packages\\statsmodels\\base\\model.py:604: ConvergenceWarning:\n",
      "\n",
      "Maximum Likelihood optimization failed to converge. Check mle_retvals\n",
      "\n",
      "c:\\Users\\joshi\\anaconda3\\envs\\timeseries\\lib\\site-packages\\statsmodels\\base\\model.py:604: ConvergenceWarning:\n",
      "\n",
      "Maximum Likelihood optimization failed to converge. Check mle_retvals\n",
      "\n",
      "c:\\Users\\joshi\\anaconda3\\envs\\timeseries\\lib\\site-packages\\statsmodels\\base\\model.py:604: ConvergenceWarning:\n",
      "\n",
      "Maximum Likelihood optimization failed to converge. Check mle_retvals\n",
      "\n",
      "c:\\Users\\joshi\\anaconda3\\envs\\timeseries\\lib\\site-packages\\statsmodels\\base\\model.py:604: ConvergenceWarning:\n",
      "\n",
      "Maximum Likelihood optimization failed to converge. Check mle_retvals\n",
      "\n",
      "c:\\Users\\joshi\\anaconda3\\envs\\timeseries\\lib\\site-packages\\statsmodels\\base\\model.py:604: ConvergenceWarning:\n",
      "\n",
      "Maximum Likelihood optimization failed to converge. Check mle_retvals\n",
      "\n",
      "c:\\Users\\joshi\\anaconda3\\envs\\timeseries\\lib\\site-packages\\statsmodels\\base\\model.py:604: ConvergenceWarning:\n",
      "\n",
      "Maximum Likelihood optimization failed to converge. Check mle_retvals\n",
      "\n",
      "c:\\Users\\joshi\\anaconda3\\envs\\timeseries\\lib\\site-packages\\statsmodels\\base\\model.py:604: ConvergenceWarning:\n",
      "\n",
      "Maximum Likelihood optimization failed to converge. Check mle_retvals\n",
      "\n",
      "c:\\Users\\joshi\\anaconda3\\envs\\timeseries\\lib\\site-packages\\statsmodels\\base\\model.py:604: ConvergenceWarning:\n",
      "\n",
      "Maximum Likelihood optimization failed to converge. Check mle_retvals\n",
      "\n",
      "c:\\Users\\joshi\\anaconda3\\envs\\timeseries\\lib\\site-packages\\statsmodels\\base\\model.py:604: ConvergenceWarning:\n",
      "\n",
      "Maximum Likelihood optimization failed to converge. Check mle_retvals\n",
      "\n",
      "c:\\Users\\joshi\\anaconda3\\envs\\timeseries\\lib\\site-packages\\statsmodels\\base\\model.py:604: ConvergenceWarning:\n",
      "\n",
      "Maximum Likelihood optimization failed to converge. Check mle_retvals\n",
      "\n",
      "c:\\Users\\joshi\\anaconda3\\envs\\timeseries\\lib\\site-packages\\statsmodels\\base\\model.py:604: ConvergenceWarning:\n",
      "\n",
      "Maximum Likelihood optimization failed to converge. Check mle_retvals\n",
      "\n",
      "c:\\Users\\joshi\\anaconda3\\envs\\timeseries\\lib\\site-packages\\statsmodels\\base\\model.py:604: ConvergenceWarning:\n",
      "\n",
      "Maximum Likelihood optimization failed to converge. Check mle_retvals\n",
      "\n",
      "c:\\Users\\joshi\\anaconda3\\envs\\timeseries\\lib\\site-packages\\statsmodels\\base\\model.py:604: ConvergenceWarning:\n",
      "\n",
      "Maximum Likelihood optimization failed to converge. Check mle_retvals\n",
      "\n",
      "c:\\Users\\joshi\\anaconda3\\envs\\timeseries\\lib\\site-packages\\statsmodels\\base\\model.py:604: ConvergenceWarning:\n",
      "\n",
      "Maximum Likelihood optimization failed to converge. Check mle_retvals\n",
      "\n",
      "c:\\Users\\joshi\\anaconda3\\envs\\timeseries\\lib\\site-packages\\statsmodels\\base\\model.py:604: ConvergenceWarning:\n",
      "\n",
      "Maximum Likelihood optimization failed to converge. Check mle_retvals\n",
      "\n",
      "c:\\Users\\joshi\\anaconda3\\envs\\timeseries\\lib\\site-packages\\statsmodels\\base\\model.py:604: ConvergenceWarning:\n",
      "\n",
      "Maximum Likelihood optimization failed to converge. Check mle_retvals\n",
      "\n",
      "c:\\Users\\joshi\\anaconda3\\envs\\timeseries\\lib\\site-packages\\statsmodels\\base\\model.py:604: ConvergenceWarning:\n",
      "\n",
      "Maximum Likelihood optimization failed to converge. Check mle_retvals\n",
      "\n",
      "c:\\Users\\joshi\\anaconda3\\envs\\timeseries\\lib\\site-packages\\statsmodels\\base\\model.py:604: ConvergenceWarning:\n",
      "\n",
      "Maximum Likelihood optimization failed to converge. Check mle_retvals\n",
      "\n",
      "c:\\Users\\joshi\\anaconda3\\envs\\timeseries\\lib\\site-packages\\statsmodels\\base\\model.py:604: ConvergenceWarning:\n",
      "\n",
      "Maximum Likelihood optimization failed to converge. Check mle_retvals\n",
      "\n",
      "c:\\Users\\joshi\\anaconda3\\envs\\timeseries\\lib\\site-packages\\statsmodels\\base\\model.py:604: ConvergenceWarning:\n",
      "\n",
      "Maximum Likelihood optimization failed to converge. Check mle_retvals\n",
      "\n",
      "c:\\Users\\joshi\\anaconda3\\envs\\timeseries\\lib\\site-packages\\statsmodels\\base\\model.py:604: ConvergenceWarning:\n",
      "\n",
      "Maximum Likelihood optimization failed to converge. Check mle_retvals\n",
      "\n",
      "c:\\Users\\joshi\\anaconda3\\envs\\timeseries\\lib\\site-packages\\statsmodels\\base\\model.py:604: ConvergenceWarning:\n",
      "\n",
      "Maximum Likelihood optimization failed to converge. Check mle_retvals\n",
      "\n",
      "c:\\Users\\joshi\\anaconda3\\envs\\timeseries\\lib\\site-packages\\statsmodels\\base\\model.py:604: ConvergenceWarning:\n",
      "\n",
      "Maximum Likelihood optimization failed to converge. Check mle_retvals\n",
      "\n",
      "c:\\Users\\joshi\\anaconda3\\envs\\timeseries\\lib\\site-packages\\statsmodels\\base\\model.py:604: ConvergenceWarning:\n",
      "\n",
      "Maximum Likelihood optimization failed to converge. Check mle_retvals\n",
      "\n",
      "c:\\Users\\joshi\\anaconda3\\envs\\timeseries\\lib\\site-packages\\statsmodels\\base\\model.py:604: ConvergenceWarning:\n",
      "\n",
      "Maximum Likelihood optimization failed to converge. Check mle_retvals\n",
      "\n",
      "c:\\Users\\joshi\\anaconda3\\envs\\timeseries\\lib\\site-packages\\statsmodels\\base\\model.py:604: ConvergenceWarning:\n",
      "\n",
      "Maximum Likelihood optimization failed to converge. Check mle_retvals\n",
      "\n",
      "c:\\Users\\joshi\\anaconda3\\envs\\timeseries\\lib\\site-packages\\statsmodels\\base\\model.py:604: ConvergenceWarning:\n",
      "\n",
      "Maximum Likelihood optimization failed to converge. Check mle_retvals\n",
      "\n",
      "c:\\Users\\joshi\\anaconda3\\envs\\timeseries\\lib\\site-packages\\statsmodels\\base\\model.py:604: ConvergenceWarning:\n",
      "\n",
      "Maximum Likelihood optimization failed to converge. Check mle_retvals\n",
      "\n",
      "c:\\Users\\joshi\\anaconda3\\envs\\timeseries\\lib\\site-packages\\statsmodels\\base\\model.py:604: ConvergenceWarning:\n",
      "\n",
      "Maximum Likelihood optimization failed to converge. Check mle_retvals\n",
      "\n",
      "c:\\Users\\joshi\\anaconda3\\envs\\timeseries\\lib\\site-packages\\statsmodels\\base\\model.py:604: ConvergenceWarning:\n",
      "\n",
      "Maximum Likelihood optimization failed to converge. Check mle_retvals\n",
      "\n",
      "c:\\Users\\joshi\\anaconda3\\envs\\timeseries\\lib\\site-packages\\statsmodels\\base\\model.py:604: ConvergenceWarning:\n",
      "\n",
      "Maximum Likelihood optimization failed to converge. Check mle_retvals\n",
      "\n",
      "c:\\Users\\joshi\\anaconda3\\envs\\timeseries\\lib\\site-packages\\statsmodels\\base\\model.py:604: ConvergenceWarning:\n",
      "\n",
      "Maximum Likelihood optimization failed to converge. Check mle_retvals\n",
      "\n",
      "c:\\Users\\joshi\\anaconda3\\envs\\timeseries\\lib\\site-packages\\statsmodels\\base\\model.py:604: ConvergenceWarning:\n",
      "\n",
      "Maximum Likelihood optimization failed to converge. Check mle_retvals\n",
      "\n",
      "c:\\Users\\joshi\\anaconda3\\envs\\timeseries\\lib\\site-packages\\statsmodels\\base\\model.py:604: ConvergenceWarning:\n",
      "\n",
      "Maximum Likelihood optimization failed to converge. Check mle_retvals\n",
      "\n",
      "c:\\Users\\joshi\\anaconda3\\envs\\timeseries\\lib\\site-packages\\statsmodels\\base\\model.py:604: ConvergenceWarning:\n",
      "\n",
      "Maximum Likelihood optimization failed to converge. Check mle_retvals\n",
      "\n",
      "c:\\Users\\joshi\\anaconda3\\envs\\timeseries\\lib\\site-packages\\statsmodels\\base\\model.py:604: ConvergenceWarning:\n",
      "\n",
      "Maximum Likelihood optimization failed to converge. Check mle_retvals\n",
      "\n",
      "c:\\Users\\joshi\\anaconda3\\envs\\timeseries\\lib\\site-packages\\statsmodels\\base\\model.py:604: ConvergenceWarning:\n",
      "\n",
      "Maximum Likelihood optimization failed to converge. Check mle_retvals\n",
      "\n",
      "c:\\Users\\joshi\\anaconda3\\envs\\timeseries\\lib\\site-packages\\statsmodels\\base\\model.py:604: ConvergenceWarning:\n",
      "\n",
      "Maximum Likelihood optimization failed to converge. Check mle_retvals\n",
      "\n",
      "c:\\Users\\joshi\\anaconda3\\envs\\timeseries\\lib\\site-packages\\statsmodels\\base\\model.py:604: ConvergenceWarning:\n",
      "\n",
      "Maximum Likelihood optimization failed to converge. Check mle_retvals\n",
      "\n",
      "c:\\Users\\joshi\\anaconda3\\envs\\timeseries\\lib\\site-packages\\statsmodels\\base\\model.py:604: ConvergenceWarning:\n",
      "\n",
      "Maximum Likelihood optimization failed to converge. Check mle_retvals\n",
      "\n",
      "c:\\Users\\joshi\\anaconda3\\envs\\timeseries\\lib\\site-packages\\statsmodels\\base\\model.py:604: ConvergenceWarning:\n",
      "\n",
      "Maximum Likelihood optimization failed to converge. Check mle_retvals\n",
      "\n",
      "c:\\Users\\joshi\\anaconda3\\envs\\timeseries\\lib\\site-packages\\statsmodels\\base\\model.py:604: ConvergenceWarning:\n",
      "\n",
      "Maximum Likelihood optimization failed to converge. Check mle_retvals\n",
      "\n",
      "c:\\Users\\joshi\\anaconda3\\envs\\timeseries\\lib\\site-packages\\statsmodels\\base\\model.py:604: ConvergenceWarning:\n",
      "\n",
      "Maximum Likelihood optimization failed to converge. Check mle_retvals\n",
      "\n",
      "c:\\Users\\joshi\\anaconda3\\envs\\timeseries\\lib\\site-packages\\statsmodels\\base\\model.py:604: ConvergenceWarning:\n",
      "\n",
      "Maximum Likelihood optimization failed to converge. Check mle_retvals\n",
      "\n",
      "c:\\Users\\joshi\\anaconda3\\envs\\timeseries\\lib\\site-packages\\statsmodels\\base\\model.py:604: ConvergenceWarning:\n",
      "\n",
      "Maximum Likelihood optimization failed to converge. Check mle_retvals\n",
      "\n",
      "c:\\Users\\joshi\\anaconda3\\envs\\timeseries\\lib\\site-packages\\statsmodels\\base\\model.py:604: ConvergenceWarning:\n",
      "\n",
      "Maximum Likelihood optimization failed to converge. Check mle_retvals\n",
      "\n",
      "c:\\Users\\joshi\\anaconda3\\envs\\timeseries\\lib\\site-packages\\statsmodels\\base\\model.py:604: ConvergenceWarning:\n",
      "\n",
      "Maximum Likelihood optimization failed to converge. Check mle_retvals\n",
      "\n",
      "c:\\Users\\joshi\\anaconda3\\envs\\timeseries\\lib\\site-packages\\statsmodels\\base\\model.py:604: ConvergenceWarning:\n",
      "\n",
      "Maximum Likelihood optimization failed to converge. Check mle_retvals\n",
      "\n",
      "c:\\Users\\joshi\\anaconda3\\envs\\timeseries\\lib\\site-packages\\statsmodels\\base\\model.py:604: ConvergenceWarning:\n",
      "\n",
      "Maximum Likelihood optimization failed to converge. Check mle_retvals\n",
      "\n",
      "c:\\Users\\joshi\\anaconda3\\envs\\timeseries\\lib\\site-packages\\statsmodels\\base\\model.py:604: ConvergenceWarning:\n",
      "\n",
      "Maximum Likelihood optimization failed to converge. Check mle_retvals\n",
      "\n",
      "c:\\Users\\joshi\\anaconda3\\envs\\timeseries\\lib\\site-packages\\statsmodels\\base\\model.py:604: ConvergenceWarning:\n",
      "\n",
      "Maximum Likelihood optimization failed to converge. Check mle_retvals\n",
      "\n",
      "c:\\Users\\joshi\\anaconda3\\envs\\timeseries\\lib\\site-packages\\statsmodels\\base\\model.py:604: ConvergenceWarning:\n",
      "\n",
      "Maximum Likelihood optimization failed to converge. Check mle_retvals\n",
      "\n",
      "c:\\Users\\joshi\\anaconda3\\envs\\timeseries\\lib\\site-packages\\statsmodels\\base\\model.py:604: ConvergenceWarning:\n",
      "\n",
      "Maximum Likelihood optimization failed to converge. Check mle_retvals\n",
      "\n",
      "c:\\Users\\joshi\\anaconda3\\envs\\timeseries\\lib\\site-packages\\statsmodels\\base\\model.py:604: ConvergenceWarning:\n",
      "\n",
      "Maximum Likelihood optimization failed to converge. Check mle_retvals\n",
      "\n",
      "c:\\Users\\joshi\\anaconda3\\envs\\timeseries\\lib\\site-packages\\statsmodels\\base\\model.py:604: ConvergenceWarning:\n",
      "\n",
      "Maximum Likelihood optimization failed to converge. Check mle_retvals\n",
      "\n",
      "c:\\Users\\joshi\\anaconda3\\envs\\timeseries\\lib\\site-packages\\statsmodels\\base\\model.py:604: ConvergenceWarning:\n",
      "\n",
      "Maximum Likelihood optimization failed to converge. Check mle_retvals\n",
      "\n",
      "c:\\Users\\joshi\\anaconda3\\envs\\timeseries\\lib\\site-packages\\statsmodels\\base\\model.py:604: ConvergenceWarning:\n",
      "\n",
      "Maximum Likelihood optimization failed to converge. Check mle_retvals\n",
      "\n",
      "c:\\Users\\joshi\\anaconda3\\envs\\timeseries\\lib\\site-packages\\statsmodels\\base\\model.py:604: ConvergenceWarning:\n",
      "\n",
      "Maximum Likelihood optimization failed to converge. Check mle_retvals\n",
      "\n",
      "c:\\Users\\joshi\\anaconda3\\envs\\timeseries\\lib\\site-packages\\statsmodels\\base\\model.py:604: ConvergenceWarning:\n",
      "\n",
      "Maximum Likelihood optimization failed to converge. Check mle_retvals\n",
      "\n",
      "c:\\Users\\joshi\\anaconda3\\envs\\timeseries\\lib\\site-packages\\statsmodels\\base\\model.py:604: ConvergenceWarning:\n",
      "\n",
      "Maximum Likelihood optimization failed to converge. Check mle_retvals\n",
      "\n",
      "c:\\Users\\joshi\\anaconda3\\envs\\timeseries\\lib\\site-packages\\statsmodels\\base\\model.py:604: ConvergenceWarning:\n",
      "\n",
      "Maximum Likelihood optimization failed to converge. Check mle_retvals\n",
      "\n",
      "c:\\Users\\joshi\\anaconda3\\envs\\timeseries\\lib\\site-packages\\statsmodels\\base\\model.py:604: ConvergenceWarning:\n",
      "\n",
      "Maximum Likelihood optimization failed to converge. Check mle_retvals\n",
      "\n",
      "c:\\Users\\joshi\\anaconda3\\envs\\timeseries\\lib\\site-packages\\statsmodels\\base\\model.py:604: ConvergenceWarning:\n",
      "\n",
      "Maximum Likelihood optimization failed to converge. Check mle_retvals\n",
      "\n",
      "c:\\Users\\joshi\\anaconda3\\envs\\timeseries\\lib\\site-packages\\statsmodels\\base\\model.py:604: ConvergenceWarning:\n",
      "\n",
      "Maximum Likelihood optimization failed to converge. Check mle_retvals\n",
      "\n",
      "c:\\Users\\joshi\\anaconda3\\envs\\timeseries\\lib\\site-packages\\statsmodels\\base\\model.py:604: ConvergenceWarning:\n",
      "\n",
      "Maximum Likelihood optimization failed to converge. Check mle_retvals\n",
      "\n",
      "c:\\Users\\joshi\\anaconda3\\envs\\timeseries\\lib\\site-packages\\statsmodels\\base\\model.py:604: ConvergenceWarning:\n",
      "\n",
      "Maximum Likelihood optimization failed to converge. Check mle_retvals\n",
      "\n",
      "c:\\Users\\joshi\\anaconda3\\envs\\timeseries\\lib\\site-packages\\statsmodels\\base\\model.py:604: ConvergenceWarning:\n",
      "\n",
      "Maximum Likelihood optimization failed to converge. Check mle_retvals\n",
      "\n",
      "c:\\Users\\joshi\\anaconda3\\envs\\timeseries\\lib\\site-packages\\statsmodels\\base\\model.py:604: ConvergenceWarning:\n",
      "\n",
      "Maximum Likelihood optimization failed to converge. Check mle_retvals\n",
      "\n",
      "c:\\Users\\joshi\\anaconda3\\envs\\timeseries\\lib\\site-packages\\statsmodels\\base\\model.py:604: ConvergenceWarning:\n",
      "\n",
      "Maximum Likelihood optimization failed to converge. Check mle_retvals\n",
      "\n",
      "c:\\Users\\joshi\\anaconda3\\envs\\timeseries\\lib\\site-packages\\statsmodels\\base\\model.py:604: ConvergenceWarning:\n",
      "\n",
      "Maximum Likelihood optimization failed to converge. Check mle_retvals\n",
      "\n",
      "c:\\Users\\joshi\\anaconda3\\envs\\timeseries\\lib\\site-packages\\statsmodels\\base\\model.py:604: ConvergenceWarning:\n",
      "\n",
      "Maximum Likelihood optimization failed to converge. Check mle_retvals\n",
      "\n",
      "c:\\Users\\joshi\\anaconda3\\envs\\timeseries\\lib\\site-packages\\statsmodels\\base\\model.py:604: ConvergenceWarning:\n",
      "\n",
      "Maximum Likelihood optimization failed to converge. Check mle_retvals\n",
      "\n",
      "c:\\Users\\joshi\\anaconda3\\envs\\timeseries\\lib\\site-packages\\statsmodels\\base\\model.py:604: ConvergenceWarning:\n",
      "\n",
      "Maximum Likelihood optimization failed to converge. Check mle_retvals\n",
      "\n",
      "c:\\Users\\joshi\\anaconda3\\envs\\timeseries\\lib\\site-packages\\statsmodels\\base\\model.py:604: ConvergenceWarning:\n",
      "\n",
      "Maximum Likelihood optimization failed to converge. Check mle_retvals\n",
      "\n",
      "c:\\Users\\joshi\\anaconda3\\envs\\timeseries\\lib\\site-packages\\statsmodels\\base\\model.py:604: ConvergenceWarning:\n",
      "\n",
      "Maximum Likelihood optimization failed to converge. Check mle_retvals\n",
      "\n",
      "c:\\Users\\joshi\\anaconda3\\envs\\timeseries\\lib\\site-packages\\statsmodels\\base\\model.py:604: ConvergenceWarning:\n",
      "\n",
      "Maximum Likelihood optimization failed to converge. Check mle_retvals\n",
      "\n",
      "c:\\Users\\joshi\\anaconda3\\envs\\timeseries\\lib\\site-packages\\statsmodels\\base\\model.py:604: ConvergenceWarning:\n",
      "\n",
      "Maximum Likelihood optimization failed to converge. Check mle_retvals\n",
      "\n",
      "c:\\Users\\joshi\\anaconda3\\envs\\timeseries\\lib\\site-packages\\statsmodels\\base\\model.py:604: ConvergenceWarning:\n",
      "\n",
      "Maximum Likelihood optimization failed to converge. Check mle_retvals\n",
      "\n",
      "c:\\Users\\joshi\\anaconda3\\envs\\timeseries\\lib\\site-packages\\statsmodels\\base\\model.py:604: ConvergenceWarning:\n",
      "\n",
      "Maximum Likelihood optimization failed to converge. Check mle_retvals\n",
      "\n",
      "c:\\Users\\joshi\\anaconda3\\envs\\timeseries\\lib\\site-packages\\statsmodels\\base\\model.py:604: ConvergenceWarning:\n",
      "\n",
      "Maximum Likelihood optimization failed to converge. Check mle_retvals\n",
      "\n",
      "c:\\Users\\joshi\\anaconda3\\envs\\timeseries\\lib\\site-packages\\statsmodels\\base\\model.py:604: ConvergenceWarning:\n",
      "\n",
      "Maximum Likelihood optimization failed to converge. Check mle_retvals\n",
      "\n",
      "c:\\Users\\joshi\\anaconda3\\envs\\timeseries\\lib\\site-packages\\statsmodels\\base\\model.py:604: ConvergenceWarning:\n",
      "\n",
      "Maximum Likelihood optimization failed to converge. Check mle_retvals\n",
      "\n",
      "c:\\Users\\joshi\\anaconda3\\envs\\timeseries\\lib\\site-packages\\statsmodels\\base\\model.py:604: ConvergenceWarning:\n",
      "\n",
      "Maximum Likelihood optimization failed to converge. Check mle_retvals\n",
      "\n",
      "c:\\Users\\joshi\\anaconda3\\envs\\timeseries\\lib\\site-packages\\statsmodels\\base\\model.py:604: ConvergenceWarning:\n",
      "\n",
      "Maximum Likelihood optimization failed to converge. Check mle_retvals\n",
      "\n",
      "c:\\Users\\joshi\\anaconda3\\envs\\timeseries\\lib\\site-packages\\statsmodels\\base\\model.py:604: ConvergenceWarning:\n",
      "\n",
      "Maximum Likelihood optimization failed to converge. Check mle_retvals\n",
      "\n",
      "c:\\Users\\joshi\\anaconda3\\envs\\timeseries\\lib\\site-packages\\statsmodels\\base\\model.py:604: ConvergenceWarning:\n",
      "\n",
      "Maximum Likelihood optimization failed to converge. Check mle_retvals\n",
      "\n",
      "c:\\Users\\joshi\\anaconda3\\envs\\timeseries\\lib\\site-packages\\statsmodels\\base\\model.py:604: ConvergenceWarning:\n",
      "\n",
      "Maximum Likelihood optimization failed to converge. Check mle_retvals\n",
      "\n",
      "c:\\Users\\joshi\\anaconda3\\envs\\timeseries\\lib\\site-packages\\statsmodels\\base\\model.py:604: ConvergenceWarning:\n",
      "\n",
      "Maximum Likelihood optimization failed to converge. Check mle_retvals\n",
      "\n",
      "c:\\Users\\joshi\\anaconda3\\envs\\timeseries\\lib\\site-packages\\statsmodels\\base\\model.py:604: ConvergenceWarning:\n",
      "\n",
      "Maximum Likelihood optimization failed to converge. Check mle_retvals\n",
      "\n",
      "c:\\Users\\joshi\\anaconda3\\envs\\timeseries\\lib\\site-packages\\statsmodels\\base\\model.py:604: ConvergenceWarning:\n",
      "\n",
      "Maximum Likelihood optimization failed to converge. Check mle_retvals\n",
      "\n",
      "c:\\Users\\joshi\\anaconda3\\envs\\timeseries\\lib\\site-packages\\statsmodels\\base\\model.py:604: ConvergenceWarning:\n",
      "\n",
      "Maximum Likelihood optimization failed to converge. Check mle_retvals\n",
      "\n",
      "c:\\Users\\joshi\\anaconda3\\envs\\timeseries\\lib\\site-packages\\statsmodels\\base\\model.py:604: ConvergenceWarning:\n",
      "\n",
      "Maximum Likelihood optimization failed to converge. Check mle_retvals\n",
      "\n",
      "c:\\Users\\joshi\\anaconda3\\envs\\timeseries\\lib\\site-packages\\statsmodels\\base\\model.py:604: ConvergenceWarning:\n",
      "\n",
      "Maximum Likelihood optimization failed to converge. Check mle_retvals\n",
      "\n",
      "c:\\Users\\joshi\\anaconda3\\envs\\timeseries\\lib\\site-packages\\statsmodels\\base\\model.py:604: ConvergenceWarning:\n",
      "\n",
      "Maximum Likelihood optimization failed to converge. Check mle_retvals\n",
      "\n",
      "c:\\Users\\joshi\\anaconda3\\envs\\timeseries\\lib\\site-packages\\statsmodels\\base\\model.py:604: ConvergenceWarning:\n",
      "\n",
      "Maximum Likelihood optimization failed to converge. Check mle_retvals\n",
      "\n",
      "c:\\Users\\joshi\\anaconda3\\envs\\timeseries\\lib\\site-packages\\statsmodels\\base\\model.py:604: ConvergenceWarning:\n",
      "\n",
      "Maximum Likelihood optimization failed to converge. Check mle_retvals\n",
      "\n",
      "c:\\Users\\joshi\\anaconda3\\envs\\timeseries\\lib\\site-packages\\statsmodels\\base\\model.py:604: ConvergenceWarning:\n",
      "\n",
      "Maximum Likelihood optimization failed to converge. Check mle_retvals\n",
      "\n",
      "c:\\Users\\joshi\\anaconda3\\envs\\timeseries\\lib\\site-packages\\statsmodels\\base\\model.py:604: ConvergenceWarning:\n",
      "\n",
      "Maximum Likelihood optimization failed to converge. Check mle_retvals\n",
      "\n"
     ]
    },
    {
     "data": {
      "text/html": [
       "<div>\n",
       "<style scoped>\n",
       "    .dataframe tbody tr th:only-of-type {\n",
       "        vertical-align: middle;\n",
       "    }\n",
       "\n",
       "    .dataframe tbody tr th {\n",
       "        vertical-align: top;\n",
       "    }\n",
       "\n",
       "    .dataframe thead th {\n",
       "        text-align: right;\n",
       "    }\n",
       "</style>\n",
       "<table border=\"1\" class=\"dataframe\">\n",
       "  <thead>\n",
       "    <tr style=\"text-align: right;\">\n",
       "      <th></th>\n",
       "      <th>(p,q) x (P,Q)</th>\n",
       "      <th>AIC</th>\n",
       "    </tr>\n",
       "  </thead>\n",
       "  <tbody>\n",
       "    <tr>\n",
       "      <th>0</th>\n",
       "      <td>(2, 3, 0, 0)</td>\n",
       "      <td>92.587233</td>\n",
       "    </tr>\n",
       "    <tr>\n",
       "      <th>1</th>\n",
       "      <td>(2, 3, 1, 0)</td>\n",
       "      <td>93.981414</td>\n",
       "    </tr>\n",
       "    <tr>\n",
       "      <th>2</th>\n",
       "      <td>(2, 3, 0, 1)</td>\n",
       "      <td>94.131180</td>\n",
       "    </tr>\n",
       "    <tr>\n",
       "      <th>3</th>\n",
       "      <td>(3, 3, 0, 0)</td>\n",
       "      <td>94.468584</td>\n",
       "    </tr>\n",
       "    <tr>\n",
       "      <th>4</th>\n",
       "      <td>(3, 2, 0, 3)</td>\n",
       "      <td>94.827060</td>\n",
       "    </tr>\n",
       "    <tr>\n",
       "      <th>...</th>\n",
       "      <td>...</td>\n",
       "      <td>...</td>\n",
       "    </tr>\n",
       "    <tr>\n",
       "      <th>251</th>\n",
       "      <td>(0, 0, 3, 1)</td>\n",
       "      <td>144.211575</td>\n",
       "    </tr>\n",
       "    <tr>\n",
       "      <th>252</th>\n",
       "      <td>(0, 0, 3, 3)</td>\n",
       "      <td>145.086240</td>\n",
       "    </tr>\n",
       "    <tr>\n",
       "      <th>253</th>\n",
       "      <td>(0, 0, 2, 3)</td>\n",
       "      <td>145.465207</td>\n",
       "    </tr>\n",
       "    <tr>\n",
       "      <th>254</th>\n",
       "      <td>(0, 0, 3, 2)</td>\n",
       "      <td>145.563923</td>\n",
       "    </tr>\n",
       "    <tr>\n",
       "      <th>255</th>\n",
       "      <td>(0, 0, 0, 0)</td>\n",
       "      <td>145.581196</td>\n",
       "    </tr>\n",
       "  </tbody>\n",
       "</table>\n",
       "<p>256 rows × 2 columns</p>\n",
       "</div>"
      ],
      "text/plain": [
       "    (p,q) x (P,Q)         AIC\n",
       "0    (2, 3, 0, 0)   92.587233\n",
       "1    (2, 3, 1, 0)   93.981414\n",
       "2    (2, 3, 0, 1)   94.131180\n",
       "3    (3, 3, 0, 0)   94.468584\n",
       "4    (3, 2, 0, 3)   94.827060\n",
       "..            ...         ...\n",
       "251  (0, 0, 3, 1)  144.211575\n",
       "252  (0, 0, 3, 3)  145.086240\n",
       "253  (0, 0, 2, 3)  145.465207\n",
       "254  (0, 0, 3, 2)  145.563923\n",
       "255  (0, 0, 0, 0)  145.581196\n",
       "\n",
       "[256 rows x 2 columns]"
      ]
     },
     "execution_count": 18,
     "metadata": {},
     "output_type": "execute_result"
    }
   ],
   "source": [
    "result_df = optimize_SARIMA(df['data'], parameters_list, 1, 1, 4)\n",
    "result_df"
   ]
  },
  {
   "cell_type": "code",
   "execution_count": 19,
   "metadata": {},
   "outputs": [
    {
     "name": "stdout",
     "output_type": "stream",
     "text": [
      "                                     SARIMAX Results                                      \n",
      "==========================================================================================\n",
      "Dep. Variable:                               data   No. Observations:                   84\n",
      "Model:             SARIMAX(2, 1, 3)x(0, 1, [], 4)   Log Likelihood                 -40.294\n",
      "Date:                            Wed, 15 Jun 2022   AIC                             92.587\n",
      "Time:                                    12:53:49   BIC                            106.804\n",
      "Sample:                                         0   HQIC                            98.283\n",
      "                                             - 84                                         \n",
      "Covariance Type:                              opg                                         \n",
      "==============================================================================\n",
      "                 coef    std err          z      P>|z|      [0.025      0.975]\n",
      "------------------------------------------------------------------------------\n",
      "ar.L1         -1.4848      0.116    -12.797      0.000      -1.712      -1.257\n",
      "ar.L2         -0.7900      0.131     -6.007      0.000      -1.048      -0.532\n",
      "ma.L1          0.7702      1.014      0.760      0.447      -1.216       2.757\n",
      "ma.L2         -0.1109      0.615     -0.180      0.857      -1.317       1.095\n",
      "ma.L3         -0.7351      0.954     -0.771      0.441      -2.605       1.135\n",
      "sigma2         0.1516      0.199      0.763      0.446      -0.238       0.541\n",
      "===================================================================================\n",
      "Ljung-Box (L1) (Q):                   0.34   Jarque-Bera (JB):                39.97\n",
      "Prob(Q):                              0.56   Prob(JB):                         0.00\n",
      "Heteroskedasticity (H):              25.95   Skew:                            -0.60\n",
      "Prob(H) (two-sided):                  0.00   Kurtosis:                         6.27\n",
      "===================================================================================\n",
      "\n",
      "Warnings:\n",
      "[1] Covariance matrix calculated using the outer product of gradients (complex-step).\n"
     ]
    },
    {
     "name": "stderr",
     "output_type": "stream",
     "text": [
      "c:\\Users\\joshi\\anaconda3\\envs\\timeseries\\lib\\site-packages\\statsmodels\\base\\model.py:604: ConvergenceWarning:\n",
      "\n",
      "Maximum Likelihood optimization failed to converge. Check mle_retvals\n",
      "\n"
     ]
    }
   ],
   "source": [
    "best_model = SARIMAX(df['data'], order=(2,1,3), seasonal_order=(0,1,0,4), simple_differencing=False)\n",
    "res = best_model.fit(disp=False)\n",
    "\n",
    "print(res.summary())"
   ]
  },
  {
   "cell_type": "code",
   "execution_count": 20,
   "metadata": {},
   "outputs": [
    {
     "data": {
      "image/png": "[encoded data removed]",
      "text/plain": [
       "<Figure size 720x576 with 4 Axes>"
      ]
     },
     "metadata": {
      "needs_background": "light"
     },
     "output_type": "display_data"
    }
   ],
   "source": [
    "res.plot_diagnostics()\n",
    "plt.show()"
   ]
  },
  {
   "cell_type": "markdown",
   "metadata": {},
   "source": [
    "Correlogram is significant after lag 0, so the residuals are normal\n"
   ]
  },
  {
   "cell_type": "code",
   "execution_count": 22,
   "metadata": {},
   "outputs": [
    {
     "data": {
      "image/png": "[encoded data removed]",
      "text/plain": [
       "<Figure size 720x576 with 1 Axes>"
      ]
     },
     "metadata": {
      "needs_background": "light"
     },
     "output_type": "display_data"
    }
   ],
   "source": [
    "n_forecast = 8\n",
    "predict = res.get_prediction(end = best_model.nobs + n_forecast)\n",
    "idx = np.arange(len(predict.predicted_mean))\n",
    "\n",
    "fig, ax = plt.subplots()\n",
    "ax.plot(df['data'], color='blue', label='Actual')\n",
    "ax.plot(idx[-n_forecast:], predict.predicted_mean[-n_forecast:], 'k--', label='Predicted')\n",
    "\n",
    "ax.set_title(\"Forecast of Quaterly EPS for J&J\")\n",
    "plt.legend()\n",
    "plt.show()"
   ]
  },
  {
   "cell_type": "code",
   "execution_count": 23,
   "metadata": {},
   "outputs": [
    {
     "data": {
      "text/html": [
       "<div>\n",
       "<style scoped>\n",
       "    .dataframe tbody tr th:only-of-type {\n",
       "        vertical-align: middle;\n",
       "    }\n",
       "\n",
       "    .dataframe tbody tr th {\n",
       "        vertical-align: top;\n",
       "    }\n",
       "\n",
       "    .dataframe thead th {\n",
       "        text-align: right;\n",
       "    }\n",
       "</style>\n",
       "<table border=\"1\" class=\"dataframe\">\n",
       "  <thead>\n",
       "    <tr style=\"text-align: right;\">\n",
       "      <th></th>\n",
       "      <th>date</th>\n",
       "      <th>data</th>\n",
       "      <th>data_tr_1</th>\n",
       "      <th>data_tr_2</th>\n",
       "      <th>model</th>\n",
       "    </tr>\n",
       "  </thead>\n",
       "  <tbody>\n",
       "    <tr>\n",
       "      <th>0</th>\n",
       "      <td>1960-01-01</td>\n",
       "      <td>0.71</td>\n",
       "      <td>NaN</td>\n",
       "      <td>NaN</td>\n",
       "      <td>0.000000</td>\n",
       "    </tr>\n",
       "    <tr>\n",
       "      <th>1</th>\n",
       "      <td>1960-04-01</td>\n",
       "      <td>0.63</td>\n",
       "      <td>-0.119545</td>\n",
       "      <td>NaN</td>\n",
       "      <td>0.710000</td>\n",
       "    </tr>\n",
       "    <tr>\n",
       "      <th>2</th>\n",
       "      <td>1960-07-02</td>\n",
       "      <td>0.85</td>\n",
       "      <td>0.299517</td>\n",
       "      <td>NaN</td>\n",
       "      <td>0.630000</td>\n",
       "    </tr>\n",
       "    <tr>\n",
       "      <th>3</th>\n",
       "      <td>1960-10-01</td>\n",
       "      <td>0.44</td>\n",
       "      <td>-0.658462</td>\n",
       "      <td>NaN</td>\n",
       "      <td>0.850000</td>\n",
       "    </tr>\n",
       "    <tr>\n",
       "      <th>4</th>\n",
       "      <td>1961-01-01</td>\n",
       "      <td>0.61</td>\n",
       "      <td>0.326684</td>\n",
       "      <td>NaN</td>\n",
       "      <td>0.795000</td>\n",
       "    </tr>\n",
       "    <tr>\n",
       "      <th>5</th>\n",
       "      <td>1961-04-02</td>\n",
       "      <td>0.69</td>\n",
       "      <td>0.123233</td>\n",
       "      <td>0.242778</td>\n",
       "      <td>0.530000</td>\n",
       "    </tr>\n",
       "    <tr>\n",
       "      <th>6</th>\n",
       "      <td>1961-07-02</td>\n",
       "      <td>0.92</td>\n",
       "      <td>0.287682</td>\n",
       "      <td>-0.011834</td>\n",
       "      <td>0.804931</td>\n",
       "    </tr>\n",
       "    <tr>\n",
       "      <th>7</th>\n",
       "      <td>1961-10-01</td>\n",
       "      <td>0.55</td>\n",
       "      <td>-0.514455</td>\n",
       "      <td>0.144006</td>\n",
       "      <td>0.482683</td>\n",
       "    </tr>\n",
       "    <tr>\n",
       "      <th>8</th>\n",
       "      <td>1962-01-01</td>\n",
       "      <td>0.72</td>\n",
       "      <td>0.269333</td>\n",
       "      <td>-0.057351</td>\n",
       "      <td>0.645230</td>\n",
       "    </tr>\n",
       "    <tr>\n",
       "      <th>9</th>\n",
       "      <td>1962-04-02</td>\n",
       "      <td>0.77</td>\n",
       "      <td>0.067139</td>\n",
       "      <td>-0.056093</td>\n",
       "      <td>0.748560</td>\n",
       "    </tr>\n",
       "    <tr>\n",
       "      <th>10</th>\n",
       "      <td>1962-07-02</td>\n",
       "      <td>0.92</td>\n",
       "      <td>0.177983</td>\n",
       "      <td>-0.109699</td>\n",
       "      <td>1.012372</td>\n",
       "    </tr>\n",
       "    <tr>\n",
       "      <th>11</th>\n",
       "      <td>1962-10-01</td>\n",
       "      <td>0.60</td>\n",
       "      <td>-0.427444</td>\n",
       "      <td>0.087011</td>\n",
       "      <td>0.582099</td>\n",
       "    </tr>\n",
       "    <tr>\n",
       "      <th>12</th>\n",
       "      <td>1963-01-01</td>\n",
       "      <td>0.83</td>\n",
       "      <td>0.324496</td>\n",
       "      <td>0.055163</td>\n",
       "      <td>0.772255</td>\n",
       "    </tr>\n",
       "    <tr>\n",
       "      <th>13</th>\n",
       "      <td>1963-04-02</td>\n",
       "      <td>0.80</td>\n",
       "      <td>-0.036814</td>\n",
       "      <td>-0.103953</td>\n",
       "      <td>0.845241</td>\n",
       "    </tr>\n",
       "    <tr>\n",
       "      <th>14</th>\n",
       "      <td>1963-07-02</td>\n",
       "      <td>1.00</td>\n",
       "      <td>0.223144</td>\n",
       "      <td>0.045160</td>\n",
       "      <td>0.970108</td>\n",
       "    </tr>\n",
       "  </tbody>\n",
       "</table>\n",
       "</div>"
      ],
      "text/plain": [
       "          date  data  data_tr_1  data_tr_2     model\n",
       "0   1960-01-01  0.71        NaN        NaN  0.000000\n",
       "1   1960-04-01  0.63  -0.119545        NaN  0.710000\n",
       "2   1960-07-02  0.85   0.299517        NaN  0.630000\n",
       "3   1960-10-01  0.44  -0.658462        NaN  0.850000\n",
       "4   1961-01-01  0.61   0.326684        NaN  0.795000\n",
       "5   1961-04-02  0.69   0.123233   0.242778  0.530000\n",
       "6   1961-07-02  0.92   0.287682  -0.011834  0.804931\n",
       "7   1961-10-01  0.55  -0.514455   0.144006  0.482683\n",
       "8   1962-01-01  0.72   0.269333  -0.057351  0.645230\n",
       "9   1962-04-02  0.77   0.067139  -0.056093  0.748560\n",
       "10  1962-07-02  0.92   0.177983  -0.109699  1.012372\n",
       "11  1962-10-01  0.60  -0.427444   0.087011  0.582099\n",
       "12  1963-01-01  0.83   0.324496   0.055163  0.772255\n",
       "13  1963-04-02  0.80  -0.036814  -0.103953  0.845241\n",
       "14  1963-07-02  1.00   0.223144   0.045160  0.970108"
      ]
     },
     "execution_count": 23,
     "metadata": {},
     "output_type": "execute_result"
    }
   ],
   "source": [
    "# Calculating mean_square error based on the predicted values\n",
    "\n",
    "df['model'] = predict.predicted_mean\n",
    "df.head(15)"
   ]
  },
  {
   "cell_type": "code",
   "execution_count": 24,
   "metadata": {},
   "outputs": [
    {
     "name": "stdout",
     "output_type": "stream",
     "text": [
      "MSE: 0.15612109085094966\n"
     ]
    }
   ],
   "source": [
    "mse = mean_squared_error(df['data'], df['model'])\n",
    "\n",
    "print(f\"MSE: {mse}\")"
   ]
  },
  {
   "cell_type": "code",
   "execution_count": 28,
   "metadata": {},
   "outputs": [
    {
     "data": {
      "application/vnd.plotly.v1+json": {
       "config": {
        "plotlyServerURL": "https://plot.ly"
       },
       "data": [
        {
         "mode": "lines",
         "name": "actual",
         "type": "scatter",
         "x": [
          "1960-01-01",
          "1960-04-01",
          "1960-07-02",
          "1960-10-01",
          "1961-01-01",
          "1961-04-02",
          "1961-07-02",
          "1961-10-01",
          "1962-01-01",
          "1962-04-02",
          "1962-07-02",
          "1962-10-01",
          "1963-01-01",
          "1963-04-02",
          "1963-07-02",
          "1963-10-01",
          "1964-01-01",
          "1964-04-01",
          "1964-07-02",
          "1964-10-01",
          "1965-01-01",
          "1965-04-02",
          "1965-07-02",
          "1965-10-01",
          "1966-01-01",
          "1966-04-02",
          "1966-07-02",
          "1966-10-01",
          "1967-01-01",
          "1967-04-02",
          "1967-07-02",
          "1967-10-01",
          "1968-01-01",
          "1968-04-01",
          "1968-07-02",
          "1968-10-01",
          "1969-01-01",
          "1969-04-02",
          "1969-07-02",
          "1969-10-01",
          "1970-01-01",
          "1970-04-02",
          "1970-07-02",
          "1970-10-01",
          "1971-01-01",
          "1971-04-02",
          "1971-07-02",
          "1971-10-01",
          "1972-01-01",
          "1972-04-01",
          "1972-07-02",
          "1972-10-01",
          "1973-01-01",
          "1973-04-02",
          "1973-07-02",
          "1973-10-01",
          "1974-01-01",
          "1974-04-02",
          "1974-07-02",
          "1974-10-01",
          "1975-01-01",
          "1975-04-02",
          "1975-07-02",
          "1975-10-01",
          "1976-01-01",
          "1976-04-01",
          "1976-07-02",
          "1976-10-01",
          "1977-01-01",
          "1977-04-02",
          "1977-07-02",
          "1977-10-01",
          "1978-01-01",
          "1978-04-02",
          "1978-07-02",
          "1978-10-01",
          "1979-01-01",
          "1979-04-02",
          "1979-07-02",
          "1979-10-01",
          "1980-01-01",
          "1980-04-01",
          "1980-07-02",
          "1980-10-01"
         ],
         "y": [
          0.71,
          0.63,
          0.85,
          0.44,
          0.61,
          0.69,
          0.92,
          0.55,
          0.72,
          0.77,
          0.92,
          0.6,
          0.83,
          0.8,
          1,
          0.77,
          0.92,
          1,
          1.24,
          1,
          1.16,
          1.3,
          1.45,
          1.25,
          1.26,
          1.38,
          1.86,
          1.56,
          1.53,
          1.59,
          1.83,
          1.86,
          1.53,
          2.07,
          2.34,
          2.25,
          2.16,
          2.43,
          2.7,
          2.25,
          2.79,
          3.42,
          3.69,
          3.6,
          3.6,
          4.32,
          4.32,
          4.05,
          4.86,
          5.04,
          5.04,
          4.41,
          5.58,
          5.85,
          6.57,
          5.31,
          6.03,
          6.39,
          6.93,
          5.85,
          6.93,
          7.74,
          7.83,
          6.12,
          7.74,
          8.91,
          8.28,
          6.84,
          9.54,
          10.26,
          9.54,
          8.729999,
          11.88,
          12.06,
          12.15,
          8.91,
          14.04,
          12.96,
          14.85,
          9.99,
          16.2,
          14.67,
          16.02,
          11.61
         ]
        },
        {
         "mode": "lines",
         "name": "prediction",
         "type": "scatter",
         "x": [
          "1960-01-01",
          "1960-04-01",
          "1960-07-02",
          "1960-10-01",
          "1961-01-01",
          "1961-04-02",
          "1961-07-02",
          "1961-10-01",
          "1962-01-01",
          "1962-04-02",
          "1962-07-02",
          "1962-10-01",
          "1963-01-01",
          "1963-04-02",
          "1963-07-02",
          "1963-10-01",
          "1964-01-01",
          "1964-04-01",
          "1964-07-02",
          "1964-10-01",
          "1965-01-01",
          "1965-04-02",
          "1965-07-02",
          "1965-10-01",
          "1966-01-01",
          "1966-04-02",
          "1966-07-02",
          "1966-10-01",
          "1967-01-01",
          "1967-04-02",
          "1967-07-02",
          "1967-10-01",
          "1968-01-01",
          "1968-04-01",
          "1968-07-02",
          "1968-10-01",
          "1969-01-01",
          "1969-04-02",
          "1969-07-02",
          "1969-10-01",
          "1970-01-01",
          "1970-04-02",
          "1970-07-02",
          "1970-10-01",
          "1971-01-01",
          "1971-04-02",
          "1971-07-02",
          "1971-10-01",
          "1972-01-01",
          "1972-04-01",
          "1972-07-02",
          "1972-10-01",
          "1973-01-01",
          "1973-04-02",
          "1973-07-02",
          "1973-10-01",
          "1974-01-01",
          "1974-04-02",
          "1974-07-02",
          "1974-10-01",
          "1975-01-01",
          "1975-04-02",
          "1975-07-02",
          "1975-10-01",
          "1976-01-01",
          "1976-04-01",
          "1976-07-02",
          "1976-10-01",
          "1977-01-01",
          "1977-04-02",
          "1977-07-02",
          "1977-10-01",
          "1978-01-01",
          "1978-04-02",
          "1978-07-02",
          "1978-10-01",
          "1979-01-01",
          "1979-04-02",
          "1979-07-02",
          "1979-10-01",
          "1980-01-01",
          "1980-04-01",
          "1980-07-02",
          "1980-10-01"
         ],
         "y": [
          0,
          0.709999916425651,
          0.6300000646980805,
          0.8499998962282193,
          0.7950002712429219,
          0.5300000001064006,
          0.8049305709369825,
          0.48268292821535275,
          0.6452299676911891,
          0.7485598785183318,
          1.0123718514987219,
          0.5820985407950808,
          0.7722550823000383,
          0.8452413414447776,
          0.9701076637631711,
          0.6591481042960758,
          0.9288198335127598,
          0.894901762567516,
          1.101190647914606,
          0.9514034760629759,
          1.0767743655440258,
          1.1922039607631492,
          1.4748446834445936,
          1.2067311581124383,
          1.382994314763088,
          1.5132842666792328,
          1.5699159794855828,
          1.4975274568478238,
          1.5545612586601638,
          1.5623816110272195,
          2.171090387709852,
          1.6991665446386877,
          1.6734053612657853,
          1.8849952542134112,
          1.8773259129077076,
          2.3601242434270935,
          1.8036235273747665,
          2.3913070669770127,
          2.9696320349542638,
          2.3703598425362964,
          2.613896715093878,
          2.7437544753359187,
          3.218996302373788,
          3.092485664179524,
          3.443855899713438,
          4.465685592428499,
          4.396860511595893,
          4.411256534701164,
          4.375197830487491,
          4.9794099605408615,
          5.441351621537629,
          4.546910237032953,
          5.660375575739888,
          5.752002968213349,
          5.612291642730353,
          5.558927431720064,
          6.47122387440991,
          6.486470109898146,
          7.491925740122362,
          5.772484692614785,
          6.641516579792762,
          7.219931122754943,
          7.625546493385476,
          6.945634840212097,
          7.475788487913626,
          8.399697405194932,
          8.978923809810993,
          6.579179346678275,
          8.54437766286229,
          10.108616860778405,
          9.250364853254508,
          8.075045406577964,
          10.91400497627685,
          11.873153302079983,
          11.339918079486887,
          10.457547380347153,
          13.631810365014399,
          13.113393111352952,
          14.302393536823065,
          10.070432330603184,
          16.08707037660603,
          14.497443176618749,
          16.549299702218327,
          11.81624528781374
         ]
        }
       ],
       "layout": {
        "template": {
         "data": {
          "bar": [
           {
            "error_x": {
             "color": "#2a3f5f"
            },
            "error_y": {
             "color": "#2a3f5f"
            },
            "marker": {
             "line": {
              "color": "#E5ECF6",
              "width": 0.5
             },
             "pattern": {
              "fillmode": "overlay",
              "size": 10,
              "solidity": 0.2
             }
            },
            "type": "bar"
           }
          ],
          "barpolar": [
           {
            "marker": {
             "line": {
              "color": "#E5ECF6",
              "width": 0.5
             },
             "pattern": {
              "fillmode": "overlay",
              "size": 10,
              "solidity": 0.2
             }
            },
            "type": "barpolar"
           }
          ],
          "carpet": [
           {
            "aaxis": {
             "endlinecolor": "#2a3f5f",
             "gridcolor": "white",
             "linecolor": "white",
             "minorgridcolor": "white",
             "startlinecolor": "#2a3f5f"
            },
            "baxis": {
             "endlinecolor": "#2a3f5f",
             "gridcolor": "white",
             "linecolor": "white",
             "minorgridcolor": "white",
             "startlinecolor": "#2a3f5f"
            },
            "type": "carpet"
           }
          ],
          "choropleth": [
           {
            "colorbar": {
             "outlinewidth": 0,
             "ticks": ""
            },
            "type": "choropleth"
           }
          ],
          "contour": [
           {
            "colorbar": {
             "outlinewidth": 0,
             "ticks": ""
            },
            "colorscale": [
             [
              0,
              "#0d0887"
             ],
             [
              0.1111111111111111,
              "#46039f"
             ],
             [
              0.2222222222222222,
              "#7201a8"
             ],
             [
              0.3333333333333333,
              "#9c179e"
             ],
             [
              0.4444444444444444,
              "#bd3786"
             ],
             [
              0.5555555555555556,
              "#d8576b"
             ],
             [
              0.6666666666666666,
              "#ed7953"
             ],
             [
              0.7777777777777778,
              "#fb9f3a"
             ],
             [
              0.8888888888888888,
              "#fdca26"
             ],
             [
              1,
              "#f0f921"
             ]
            ],
            "type": "contour"
           }
          ],
          "contourcarpet": [
           {
            "colorbar": {
             "outlinewidth": 0,
             "ticks": ""
            },
            "type": "contourcarpet"
           }
          ],
          "heatmap": [
           {
            "colorbar": {
             "outlinewidth": 0,
             "ticks": ""
            },
            "colorscale": [
             [
              0,
              "#0d0887"
             ],
             [
              0.1111111111111111,
              "#46039f"
             ],
             [
              0.2222222222222222,
              "#7201a8"
             ],
             [
              0.3333333333333333,
              "#9c179e"
             ],
             [
              0.4444444444444444,
              "#bd3786"
             ],
             [
              0.5555555555555556,
              "#d8576b"
             ],
             [
              0.6666666666666666,
              "#ed7953"
             ],
             [
              0.7777777777777778,
              "#fb9f3a"
             ],
             [
              0.8888888888888888,
              "#fdca26"
             ],
             [
              1,
              "#f0f921"
             ]
            ],
            "type": "heatmap"
           }
          ],
          "heatmapgl": [
           {
            "colorbar": {
             "outlinewidth": 0,
             "ticks": ""
            },
            "colorscale": [
             [
              0,
              "#0d0887"
             ],
             [
              0.1111111111111111,
              "#46039f"
             ],
             [
              0.2222222222222222,
              "#7201a8"
             ],
             [
              0.3333333333333333,
              "#9c179e"
             ],
             [
              0.4444444444444444,
              "#bd3786"
             ],
             [
              0.5555555555555556,
              "#d8576b"
             ],
             [
              0.6666666666666666,
              "#ed7953"
             ],
             [
              0.7777777777777778,
              "#fb9f3a"
             ],
             [
              0.8888888888888888,
              "#fdca26"
             ],
             [
              1,
              "#f0f921"
             ]
            ],
            "type": "heatmapgl"
           }
          ],
          "histogram": [
           {
            "marker": {
             "pattern": {
              "fillmode": "overlay",
              "size": 10,
              "solidity": 0.2
             }
            },
            "type": "histogram"
           }
          ],
          "histogram2d": [
           {
            "colorbar": {
             "outlinewidth": 0,
             "ticks": ""
            },
            "colorscale": [
             [
              0,
              "#0d0887"
             ],
             [
              0.1111111111111111,
              "#46039f"
             ],
             [
              0.2222222222222222,
              "#7201a8"
             ],
             [
              0.3333333333333333,
              "#9c179e"
             ],
             [
              0.4444444444444444,
              "#bd3786"
             ],
             [
              0.5555555555555556,
              "#d8576b"
             ],
             [
              0.6666666666666666,
              "#ed7953"
             ],
             [
              0.7777777777777778,
              "#fb9f3a"
             ],
             [
              0.8888888888888888,
              "#fdca26"
             ],
             [
              1,
              "#f0f921"
             ]
            ],
            "type": "histogram2d"
           }
          ],
          "histogram2dcontour": [
           {
            "colorbar": {
             "outlinewidth": 0,
             "ticks": ""
            },
            "colorscale": [
             [
              0,
              "#0d0887"
             ],
             [
              0.1111111111111111,
              "#46039f"
             ],
             [
              0.2222222222222222,
              "#7201a8"
             ],
             [
              0.3333333333333333,
              "#9c179e"
             ],
             [
              0.4444444444444444,
              "#bd3786"
             ],
             [
              0.5555555555555556,
              "#d8576b"
             ],
             [
              0.6666666666666666,
              "#ed7953"
             ],
             [
              0.7777777777777778,
              "#fb9f3a"
             ],
             [
              0.8888888888888888,
              "#fdca26"
             ],
             [
              1,
              "#f0f921"
             ]
            ],
            "type": "histogram2dcontour"
           }
          ],
          "mesh3d": [
           {
            "colorbar": {
             "outlinewidth": 0,
             "ticks": ""
            },
            "type": "mesh3d"
           }
          ],
          "parcoords": [
           {
            "line": {
             "colorbar": {
              "outlinewidth": 0,
              "ticks": ""
             }
            },
            "type": "parcoords"
           }
          ],
          "pie": [
           {
            "automargin": true,
            "type": "pie"
           }
          ],
          "scatter": [
           {
            "fillpattern": {
             "fillmode": "overlay",
             "size": 10,
             "solidity": 0.2
            },
            "type": "scatter"
           }
          ],
          "scatter3d": [
           {
            "line": {
             "colorbar": {
              "outlinewidth": 0,
              "ticks": ""
             }
            },
            "marker": {
             "colorbar": {
              "outlinewidth": 0,
              "ticks": ""
             }
            },
            "type": "scatter3d"
           }
          ],
          "scattercarpet": [
           {
            "marker": {
             "colorbar": {
              "outlinewidth": 0,
              "ticks": ""
             }
            },
            "type": "scattercarpet"
           }
          ],
          "scattergeo": [
           {
            "marker": {
             "colorbar": {
              "outlinewidth": 0,
              "ticks": ""
             }
            },
            "type": "scattergeo"
           }
          ],
          "scattergl": [
           {
            "marker": {
             "colorbar": {
              "outlinewidth": 0,
              "ticks": ""
             }
            },
            "type": "scattergl"
           }
          ],
          "scattermapbox": [
           {
            "marker": {
             "colorbar": {
              "outlinewidth": 0,
              "ticks": ""
             }
            },
            "type": "scattermapbox"
           }
          ],
          "scatterpolar": [
           {
            "marker": {
             "colorbar": {
              "outlinewidth": 0,
              "ticks": ""
             }
            },
            "type": "scatterpolar"
           }
          ],
          "scatterpolargl": [
           {
            "marker": {
             "colorbar": {
              "outlinewidth": 0,
              "ticks": ""
             }
            },
            "type": "scatterpolargl"
           }
          ],
          "scatterternary": [
           {
            "marker": {
             "colorbar": {
              "outlinewidth": 0,
              "ticks": ""
             }
            },
            "type": "scatterternary"
           }
          ],
          "surface": [
           {
            "colorbar": {
             "outlinewidth": 0,
             "ticks": ""
            },
            "colorscale": [
             [
              0,
              "#0d0887"
             ],
             [
              0.1111111111111111,
              "#46039f"
             ],
             [
              0.2222222222222222,
              "#7201a8"
             ],
             [
              0.3333333333333333,
              "#9c179e"
             ],
             [
              0.4444444444444444,
              "#bd3786"
             ],
             [
              0.5555555555555556,
              "#d8576b"
             ],
             [
              0.6666666666666666,
              "#ed7953"
             ],
             [
              0.7777777777777778,
              "#fb9f3a"
             ],
             [
              0.8888888888888888,
              "#fdca26"
             ],
             [
              1,
              "#f0f921"
             ]
            ],
            "type": "surface"
           }
          ],
          "table": [
           {
            "cells": {
             "fill": {
              "color": "#EBF0F8"
             },
             "line": {
              "color": "white"
             }
            },
            "header": {
             "fill": {
              "color": "#C8D4E3"
             },
             "line": {
              "color": "white"
             }
            },
            "type": "table"
           }
          ]
         },
         "layout": {
          "annotationdefaults": {
           "arrowcolor": "#2a3f5f",
           "arrowhead": 0,
           "arrowwidth": 1
          },
          "autotypenumbers": "strict",
          "coloraxis": {
           "colorbar": {
            "outlinewidth": 0,
            "ticks": ""
           }
          },
          "colorscale": {
           "diverging": [
            [
             0,
             "#8e0152"
            ],
            [
             0.1,
             "#c51b7d"
            ],
            [
             0.2,
             "#de77ae"
            ],
            [
             0.3,
             "#f1b6da"
            ],
            [
             0.4,
             "#fde0ef"
            ],
            [
             0.5,
             "#f7f7f7"
            ],
            [
             0.6,
             "#e6f5d0"
            ],
            [
             0.7,
             "#b8e186"
            ],
            [
             0.8,
             "#7fbc41"
            ],
            [
             0.9,
             "#4d9221"
            ],
            [
             1,
             "#276419"
            ]
           ],
           "sequential": [
            [
             0,
             "#0d0887"
            ],
            [
             0.1111111111111111,
             "#46039f"
            ],
            [
             0.2222222222222222,
             "#7201a8"
            ],
            [
             0.3333333333333333,
             "#9c179e"
            ],
            [
             0.4444444444444444,
             "#bd3786"
            ],
            [
             0.5555555555555556,
             "#d8576b"
            ],
            [
             0.6666666666666666,
             "#ed7953"
            ],
            [
             0.7777777777777778,
             "#fb9f3a"
            ],
            [
             0.8888888888888888,
             "#fdca26"
            ],
            [
             1,
             "#f0f921"
            ]
           ],
           "sequentialminus": [
            [
             0,
             "#0d0887"
            ],
            [
             0.1111111111111111,
             "#46039f"
            ],
            [
             0.2222222222222222,
             "#7201a8"
            ],
            [
             0.3333333333333333,
             "#9c179e"
            ],
            [
             0.4444444444444444,
             "#bd3786"
            ],
            [
             0.5555555555555556,
             "#d8576b"
            ],
            [
             0.6666666666666666,
             "#ed7953"
            ],
            [
             0.7777777777777778,
             "#fb9f3a"
            ],
            [
             0.8888888888888888,
             "#fdca26"
            ],
            [
             1,
             "#f0f921"
            ]
           ]
          },
          "colorway": [
           "#636efa",
           "#EF553B",
           "#00cc96",
           "#ab63fa",
           "#FFA15A",
           "#19d3f3",
           "#FF6692",
           "#B6E880",
           "#FF97FF",
           "#FECB52"
          ],
          "font": {
           "color": "#2a3f5f"
          },
          "geo": {
           "bgcolor": "white",
           "lakecolor": "white",
           "landcolor": "#E5ECF6",
           "showlakes": true,
           "showland": true,
           "subunitcolor": "white"
          },
          "hoverlabel": {
           "align": "left"
          },
          "hovermode": "closest",
          "mapbox": {
           "style": "light"
          },
          "paper_bgcolor": "white",
          "plot_bgcolor": "#E5ECF6",
          "polar": {
           "angularaxis": {
            "gridcolor": "white",
            "linecolor": "white",
            "ticks": ""
           },
           "bgcolor": "#E5ECF6",
           "radialaxis": {
            "gridcolor": "white",
            "linecolor": "white",
            "ticks": ""
           }
          },
          "scene": {
           "xaxis": {
            "backgroundcolor": "#E5ECF6",
            "gridcolor": "white",
            "gridwidth": 2,
            "linecolor": "white",
            "showbackground": true,
            "ticks": "",
            "zerolinecolor": "white"
           },
           "yaxis": {
            "backgroundcolor": "#E5ECF6",
            "gridcolor": "white",
            "gridwidth": 2,
            "linecolor": "white",
            "showbackground": true,
            "ticks": "",
            "zerolinecolor": "white"
           },
           "zaxis": {
            "backgroundcolor": "#E5ECF6",
            "gridcolor": "white",
            "gridwidth": 2,
            "linecolor": "white",
            "showbackground": true,
            "ticks": "",
            "zerolinecolor": "white"
           }
          },
          "shapedefaults": {
           "line": {
            "color": "#2a3f5f"
           }
          },
          "ternary": {
           "aaxis": {
            "gridcolor": "white",
            "linecolor": "white",
            "ticks": ""
           },
           "baxis": {
            "gridcolor": "white",
            "linecolor": "white",
            "ticks": ""
           },
           "bgcolor": "#E5ECF6",
           "caxis": {
            "gridcolor": "white",
            "linecolor": "white",
            "ticks": ""
           }
          },
          "title": {
           "x": 0.05
          },
          "xaxis": {
           "automargin": true,
           "gridcolor": "white",
           "linecolor": "white",
           "ticks": "",
           "title": {
            "standoff": 15
           },
           "zerolinecolor": "white",
           "zerolinewidth": 2
          },
          "yaxis": {
           "automargin": true,
           "gridcolor": "white",
           "linecolor": "white",
           "ticks": "",
           "title": {
            "standoff": 15
           },
           "zerolinecolor": "white",
           "zerolinewidth": 2
          }
         }
        },
        "title": {
         "text": "Quaterly EPS for J&J"
        },
        "xaxis": {
         "title": {
          "text": "Year"
         }
        },
        "yaxis": {
         "title": {
          "text": "EPS($)"
         }
        }
       }
      }
     },
     "metadata": {},
     "output_type": "display_data"
    }
   ],
   "source": [
    "fig = go.Figure()\n",
    "\n",
    "fig.add_trace(go.Scatter(x=df[\"date\"], y=df[\"data\"], name=\"actual\", mode=\"lines\"))\n",
    "fig.add_trace(go.Scatter(x=df[\"date\"], y=df[\"model\"], name=\"prediction\", mode=\"lines\"))\n",
    "fig.update_layout(\n",
    "    title=\"Quaterly EPS for J&J\", xaxis_title=\"Year\", yaxis_title=\"EPS($)\"\n",
    ")\n",
    "\n",
    "\n",
    "fig.show()\n"
   ]
  }
 ],
 "metadata": {
  "kernelspec": {
   "display_name": "Python 3.9.0 ('timeseries')",
   "language": "python",
   "name": "python3"
  },
  "language_info": {
   "codemirror_mode": {
    "name": "ipython",
    "version": 3
   },
   "file_extension": ".py",
   "mimetype": "text/x-python",
   "name": "python",
   "nbconvert_exporter": "python",
   "pygments_lexer": "ipython3",
   "version": "3.9.0"
  },
  "orig_nbformat": 4,
  "vscode": {
   "interpreter": {
    "hash": "9b7e0df71dc0ac1b108d86ed6fbf62d21c01831f2a5ffee61004e5a98628d2be"
   }
  }
 },
 "nbformat": 4,
 "nbformat_minor": 2
}
